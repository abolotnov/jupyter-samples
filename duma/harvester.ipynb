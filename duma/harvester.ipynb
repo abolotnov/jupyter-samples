{
 "cells": [
  {
   "cell_type": "markdown",
   "metadata": {},
   "source": [
    "Мне интересно изучать данные, строить между ними зависимости и находить аномалии. Еще мне интересно учиться программировать. Помогает держать мозги в тонусе. Код, который вы увидите ниже, не идеальный, но я и не программист.\n",
    "\n",
    "Я хочу поделиться своим опытом, как это можно делать, используя Jupyterlab (технология, которая позволяет общаться с компьютером на его языке без сложностей, связанных с установкой IDE, компиляторов и погружения в процесс программирования глубоко). В моем случае я использую язык программирования python, он удобный в освоении и его легко читать.\n",
    "\n",
    "Это не введение в программирование на python или подробная инструкция, совсем незнакомым с прораммированием людям будет немного сложно, но я специально все разбил на небольшие кусочки и не стал писать сложные контрукции, чтобы все немного упростить.\n",
    "\n",
    "Для манипулирования данными я буду использовать pandas - это очень популярная библиотека для работы с данными в памяти. На примерах ниже довольно просто разобраться в принципах работы этой штуки.\n",
    "\n",
    "Мне так же было бы интересно, если ко мне подключатся другие исследователи, которым интересна эта тема. И мы могли бы вместе дополнить докумен, собрать побольше данных и сделать полноценный анализ.\n",
    "\n",
    "Эта первая статья - notebook - то есть документ, который получается на выходе в Jupyter. Я выложу ее в github () и если вам итересно - пожалуйста, добавляйте туда свой код!\n",
    "\n",
    "Мне интересно было построить всякие данные про депутатов и все такое. У сайта думы есть API, через которые данные можно забирать. Чтобы это делать, нужно сходить на их сайт и получить Token. http://api.duma.gov.ru/pages/dokumentatsiya\n",
    "\n",
    "Теперь, когда у вас есть ключ (я использую два, это конфигурация для приложений), можно начинать."
   ]
  },
  {
   "cell_type": "markdown",
   "metadata": {},
   "source": [
    "Для начала нужно наимпортировать всякие штуки, которые мы будем использовать"
   ]
  },
  {
   "cell_type": "code",
   "execution_count": 8,
   "metadata": {},
   "outputs": [],
   "source": [
    "import pandas as pd\n",
    "import json\n",
    "from urllib.request import urlopen\n",
    "import sqlite3\n",
    "from pathlib import Path"
   ]
  },
  {
   "cell_type": "code",
   "execution_count": 35,
   "metadata": {},
   "outputs": [],
   "source": [
    "from beakerx import *\n",
    "beakerx.pandas_display_default()"
   ]
  },
  {
   "cell_type": "markdown",
   "metadata": {},
   "source": [
    "Нужно добавить логирование. И небольшой хак (не очень правильный, скорее всего, чтобы работало). Я сделал это уже во второй итерации, чтобы сделать за тем, как забираются документы с сервера. Там ниже я описывал, как часть данных с сервера через API не отдавались, и я связался с ними. И они сказали, что исправили ошибку. Но как-то так, что не совсем наверняка. Поэтому без логирования не обошлось. Но это пригодится. "
   ]
  },
  {
   "cell_type": "code",
   "execution_count": 9,
   "metadata": {},
   "outputs": [],
   "source": [
    "import logging, sys\n",
    "for handler in logging.root.handlers[:]:\n",
    "    logging.root.removeHandler(handler)\n",
    "logging.basicConfig(filename='harvester.log', level=logging.DEBUG)\n",
    "logging.info(\"Logger Prepared\")"
   ]
  },
  {
   "cell_type": "markdown",
   "metadata": {},
   "source": [
    "Теперь запомним tokens, которые получаем при регистрации, вообще это должно выглядеть примерно как-то так:"
   ]
  },
  {
   "cell_type": "code",
   "execution_count": 10,
   "metadata": {},
   "outputs": [],
   "source": [
    "token='qwertyuiop'\n",
    "app_token='qwertyuiop'"
   ]
  },
  {
   "cell_type": "markdown",
   "metadata": {},
   "source": [
    "Но так как у каждого пользователя должны быть свои ключи, я сохранил их в файлики (token & app_token) и добавил их в .gitignore, чтобы они не попали в хранилище:"
   ]
  },
  {
   "cell_type": "code",
   "execution_count": 11,
   "metadata": {},
   "outputs": [],
   "source": [
    "token=open('token', 'r').read().rstrip('\\n')\n",
    "app_token=open('app_token', 'r').read().rstrip('\\n')"
   ]
  },
  {
   "cell_type": "markdown",
   "metadata": {},
   "source": [
    "Теперь можно проверить, что работает. Лишних пробелов и переносов строк быть не должно."
   ]
  },
  {
   "cell_type": "code",
   "execution_count": 12,
   "metadata": {},
   "outputs": [
    {
     "name": "stdout",
     "output_type": "stream",
     "text": [
      "token: <83b6a9f29fd9debaecbb3bf8328ab9b4c9ca0bd7>, app_token: <app1c3c2901c16ffb7a7fe062186b3cd795ff01f89d>\n"
     ]
    }
   ],
   "source": [
    "print(\"token: <{}>, app_token: <{}>\".format(token, app_token))"
   ]
  },
  {
   "cell_type": "markdown",
   "metadata": {},
   "source": [
    "Ниже будем хранить ссылки на нужные нам запросы, они начинаются с `u`, так проще запомнить"
   ]
  },
  {
   "cell_type": "code",
   "execution_count": 13,
   "metadata": {},
   "outputs": [],
   "source": [
    "uDeputiesList='http://api.duma.gov.ru/api/:token/deputies.json?app_token=:app_token'\n",
    "uDeputyInfo='http://api.duma.gov.ru/api/:token/deputy.json?id=:id&app_token=:app_token'\n",
    "uLawAreas='http://api.duma.gov.ru/api/:token/classes.json?app_token=:app_token'"
   ]
  },
  {
   "cell_type": "markdown",
   "metadata": {},
   "source": [
    "Чтобы не прогонять цикл загрузок и очисток данных, их можно загружать в базу данных. Для простоты, можно пользоваться `sqlite3` - с ним просто работать и не нужно ничего устанавливать. Я не стал писать обертки для базы, потому что там кода немного и без них."
   ]
  },
  {
   "cell_type": "code",
   "execution_count": 14,
   "metadata": {},
   "outputs": [],
   "source": [
    "database_name = 'database.db'"
   ]
  },
  {
   "cell_type": "markdown",
   "metadata": {},
   "source": [
    "Теперь создадим несколько простых функций, который помогут с рутиной. Последний - кеширует запросы к API, чтобы не нужно было каждый раз их дергать при написании кода и отладки. Я не знаю, какие у этого API ограничения на количество и частоту запросов, возможно это все не так важно."
   ]
  },
  {
   "cell_type": "code",
   "execution_count": 23,
   "metadata": {},
   "outputs": [],
   "source": [
    "def prep(url):\n",
    "    \"\"\"Replaces token placeholders in strings\"\"\"\n",
    "    url = url.replace(':token',token).replace(':app_token', app_token)\n",
    "    return url\n",
    "\n",
    "def grab(url):\n",
    "    \"\"\"Returns string from url retrieval output\"\"\"\n",
    "    try:\n",
    "        return urlopen(prep(url)).read().decode()\n",
    "    except Exception as e:\n",
    "        logging.error(\"url: {}, message: {}\".format(prep(url), e))\n",
    "        return \"null\"\n",
    "    \n",
    "def cache(url, name):\n",
    "    \"\"\"Saves json result into cache/ folder\"\"\"\n",
    "    with open('cache/{}'.format(name), 'w') as f:\n",
    "        f.write(grab(url))"
   ]
  },
  {
   "cell_type": "markdown",
   "metadata": {},
   "source": [
    "Я использую папку `cache` для кеширования документов, и папку`cache/deputyinfo` для кеширования документов, в которых живет информация про депутатов. Их можно создать сразу."
   ]
  },
  {
   "cell_type": "code",
   "execution_count": 8,
   "metadata": {},
   "outputs": [
    {
     "name": "stderr",
     "output_type": "stream",
     "text": [
      "mkdir: cache: File exists\n",
      "mkdir: cache/deputyinfo: File exists\n"
     ]
    }
   ],
   "source": [
    "%%sh\n",
    "mkdir cache\n",
    "mkdir cache/deputyinfo"
   ]
  },
  {
   "cell_type": "markdown",
   "metadata": {},
   "source": [
    "Начнем с загрузки списка депутатов. В этом списке есть вложенная структура `factions`, в ней история перемещения депутатаа между франциями. Возможно, это интересная статистическая информация. Сначала закешируем сам документ с данными."
   ]
  },
  {
   "cell_type": "code",
   "execution_count": 9,
   "metadata": {},
   "outputs": [],
   "source": [
    "cache(uDeputiesList, 'deputies.json')"
   ]
  },
  {
   "cell_type": "markdown",
   "metadata": {},
   "source": [
    "Теперь можно этот документ обработать. Создадим фрейм с данными про депутатов, сохраним его в базу, следующим шагом пробежимся через список фракций и из них посмотрим еще один фрем, привяжем записи к идентификатору депутата. Тоже сохраним в базу. На выходе получится две структуры - deputies & fractions."
   ]
  },
  {
   "cell_type": "code",
   "execution_count": 16,
   "metadata": {},
   "outputs": [],
   "source": [
    "#load deputies into DB\n",
    "file = open('deputies.json', 'r').read()\n",
    "deputies = pd.read_json(file)\n",
    "deputies = deputies.drop('factions', axis=1)\n",
    "with sqlite3.connect(database_name) as db:\n",
    "    deputies.to_sql(name='deputies', con=db, if_exists='replace')\n",
    "db.close();\n",
    "\n",
    "#load fractions into DB\n",
    "_factions = []\n",
    "file = open('deputies.json', 'r').read()\n",
    "json_data = json.loads(file)\n",
    "for item in json_data:\n",
    "    if 'factions' in item:\n",
    "        for faction in item['factions']:\n",
    "            _factions.append({'deputy':item['id'],\n",
    "                              'id':faction['id'],\n",
    "                              'name':faction['name'],\n",
    "                              'start': faction['startDate'],\n",
    "                              'end': faction['endDate']})\n",
    "fractions = pd.DataFrame(_factions)\n",
    "with sqlite3.connect(database_name) as db:\n",
    "    fractions.to_sql(name='fractions', con=db, if_exists='replace')\n",
    "db.close()"
   ]
  },
  {
   "cell_type": "markdown",
   "metadata": {},
   "source": [
    "Теперь немного подобъем статистику. В несколько шагов.\n",
    "\n",
    "Добавим колонку с количеством фракций, в которых депутат побывал,\n",
    "Добавим колонку с саммой ранней датой, когда депутат стал депутатом,\n",
    "Добавим колонку с самой поздней датой, когда он должен будет сложить полномочия.\n",
    "\n",
    "Теперь можно перестроить колонки немного и привести их типы в порядок."
   ]
  },
  {
   "cell_type": "markdown",
   "metadata": {},
   "source": [
    "Сначала приведем типы данных в колонках в порядок. В принципе, это не очень важно, но так удобнее - не нужно все приводить к строкам при сравнении например. "
   ]
  },
  {
   "cell_type": "code",
   "execution_count": 55,
   "metadata": {},
   "outputs": [],
   "source": [
    "deputies['firstStart'] = pd.to_datetime(deputies['firstStart'])\n",
    "deputies['lastEnd'] = pd.to_datetime(deputies['lastEnd'])\n",
    "fractions['deputy'] = pd.to_numeric(fractions['deputy'])\n",
    "fractions['id'] = pd.to_numeric(fractions['id'])\n",
    "fractions['start'] = pd.to_datetime(fractions['start'])\n",
    "fractions['end'] = pd.to_datetime(fractions['end'])"
   ]
  },
  {
   "cell_type": "markdown",
   "metadata": {},
   "source": [
    "Теперь посчитаем некоторые штуки и добавим результат в виде колонок."
   ]
  },
  {
   "cell_type": "code",
   "execution_count": 56,
   "metadata": {},
   "outputs": [],
   "source": [
    "#count number of fractions per deputy\n",
    "deputies['fractionsCount']=deputies['id'].apply(lambda x: fractions.loc[fractions['deputy']==x].shape[0])\n",
    "\n",
    "#count earliest start\n",
    "deputies['firstStart']=deputies['id'].apply(lambda x: fractions.loc[fractions['deputy']==x]['start'].min())\n",
    "\n",
    "#count latest end\n",
    "deputies['lastEnd']=deputies['id'].apply(lambda x: fractions.loc[fractions['deputy']==x]['end'].max())\n",
    "\n",
    "#reorder columns\n",
    "deputies = deputies[['id', 'name', 'position', 'firstStart', 'lastEnd', 'fractionsCount', 'isCurrent']]"
   ]
  },
  {
   "cell_type": "markdown",
   "metadata": {},
   "source": [
    "Можно посмотреть, что получилось."
   ]
  },
  {
   "cell_type": "code",
   "execution_count": 36,
   "metadata": {},
   "outputs": [
    {
     "data": {
      "text/html": [
       "<div>\n",
       "<style scoped>\n",
       "    .dataframe tbody tr th:only-of-type {\n",
       "        vertical-align: middle;\n",
       "    }\n",
       "\n",
       "    .dataframe tbody tr th {\n",
       "        vertical-align: top;\n",
       "    }\n",
       "\n",
       "    .dataframe thead th {\n",
       "        text-align: right;\n",
       "    }\n",
       "</style>\n",
       "<table border=\"1\" class=\"dataframe\">\n",
       "  <thead>\n",
       "    <tr style=\"text-align: right;\">\n",
       "      <th></th>\n",
       "      <th>id</th>\n",
       "      <th>name</th>\n",
       "      <th>position</th>\n",
       "      <th>firstStart</th>\n",
       "      <th>lastEnd</th>\n",
       "      <th>fractionsCount</th>\n",
       "      <th>isCurrent</th>\n",
       "      <th>lawCount</th>\n",
       "      <th>region</th>\n",
       "    </tr>\n",
       "  </thead>\n",
       "  <tbody>\n",
       "    <tr>\n",
       "      <th>2266</th>\n",
       "      <td>99109936</td>\n",
       "      <td>Сысоев Александр Митрофанович</td>\n",
       "      <td>Депутат ГД</td>\n",
       "      <td>2003-12-07</td>\n",
       "      <td>2011-05-03</td>\n",
       "      <td>4</td>\n",
       "      <td>False</td>\n",
       "      <td>0</td>\n",
       "      <td>None</td>\n",
       "    </tr>\n",
       "  </tbody>\n",
       "</table>\n",
       "</div>"
      ],
      "text/plain": [
       "            id                           name    position firstStart  \\\n",
       "2266  99109936  Сысоев Александр Митрофанович  Депутат ГД 2003-12-07   \n",
       "\n",
       "        lastEnd  fractionsCount  isCurrent  lawCount region  \n",
       "2266 2011-05-03               4      False         0   None  "
      ]
     },
     "execution_count": 36,
     "metadata": {},
     "output_type": "execute_result"
    }
   ],
   "source": [
    "deputies.sample()"
   ]
  },
  {
   "cell_type": "code",
   "execution_count": 37,
   "metadata": {},
   "outputs": [
    {
     "data": {
      "text/html": [
       "<div>\n",
       "<style scoped>\n",
       "    .dataframe tbody tr th:only-of-type {\n",
       "        vertical-align: middle;\n",
       "    }\n",
       "\n",
       "    .dataframe tbody tr th {\n",
       "        vertical-align: top;\n",
       "    }\n",
       "\n",
       "    .dataframe thead th {\n",
       "        text-align: right;\n",
       "    }\n",
       "</style>\n",
       "<table border=\"1\" class=\"dataframe\">\n",
       "  <thead>\n",
       "    <tr style=\"text-align: right;\">\n",
       "      <th></th>\n",
       "      <th>deputy</th>\n",
       "      <th>end</th>\n",
       "      <th>id</th>\n",
       "      <th>name</th>\n",
       "      <th>start</th>\n",
       "    </tr>\n",
       "  </thead>\n",
       "  <tbody>\n",
       "    <tr>\n",
       "      <th>1640</th>\n",
       "      <td>99102425</td>\n",
       "      <td>2005-07-11</td>\n",
       "      <td>72100024</td>\n",
       "      <td>Фракция Всероссийской политической партии \"ЕДИ...</td>\n",
       "      <td>2004-04-16</td>\n",
       "    </tr>\n",
       "  </tbody>\n",
       "</table>\n",
       "</div>"
      ],
      "text/plain": [
       "        deputy         end        id  \\\n",
       "1640  99102425  2005-07-11  72100024   \n",
       "\n",
       "                                                   name       start  \n",
       "1640  Фракция Всероссийской политической партии \"ЕДИ...  2004-04-16  "
      ]
     },
     "execution_count": 37,
     "metadata": {},
     "output_type": "execute_result"
    }
   ],
   "source": [
    "fractions.sample()"
   ]
  },
  {
   "cell_type": "markdown",
   "metadata": {},
   "source": [
    "Теперь можно собрать больше данных про депутатов. Они по большей части бесполезные, но там есть количество законов, в продвижении которых принимал участие депутат и регион, который от представляет. Всего в базе 2к+ депутатов, поэтому для начала я закеширую ответы для каждого из них.\n",
    "\n",
    "Я специально закомментировал сррочку, которая вызывает функцию, поэтому что это небыстрый процесс и его нет смысла повторять часто. Если бы данные менялись часто, то их нужно было бы выбирать в несколько потоков, но в идеале я соберу их один раз, поэтому я не стал заморачиваться.\n",
    "\n",
    "А теперь когда я делаю это втретий раз, я понял, что зря не заморочился. Последний раз это заняло 30 минут почти на 3000 документов."
   ]
  },
  {
   "cell_type": "code",
   "execution_count": 24,
   "metadata": {},
   "outputs": [
    {
     "name": "stdout",
     "output_type": "stream",
     "text": [
      "CPU times: user 4.24 s, sys: 2.78 s, total: 7.02 s\n",
      "Wall time: 29min 9s\n"
     ]
    }
   ],
   "source": [
    "def loadDeputyInfoFiles(id_list):\n",
    "    for item in id_list:\n",
    "        cache(prep(uDeputyInfo.replace(':id', str(item))), 'deputyinfo/{}.json'.format(str(item)))\n",
    "%time loadDeputyInfoFiles(deputies['id'].tolist())"
   ]
  },
  {
   "cell_type": "markdown",
   "metadata": {},
   "source": [
    "Очень много полученных докуметов - пустые - там просто `null` в теле ответа. Поэтому лишные файлы нужно удалить."
   ]
  },
  {
   "cell_type": "code",
   "execution_count": 26,
   "metadata": {},
   "outputs": [],
   "source": [
    "%%bash\n",
    "find ./cache/deputyinfo/ -size -5c -delete"
   ]
  },
  {
   "cell_type": "markdown",
   "metadata": {},
   "source": [
    "Теперь можно загрузить данные из этих файлов. Начнем с количества законов."
   ]
  },
  {
   "cell_type": "code",
   "execution_count": 87,
   "metadata": {},
   "outputs": [],
   "source": [
    "def collectLawcountFromCachedFiles(id):\n",
    "    file = Path('./cache/deputyinfo/{}.json'.format(id))\n",
    "    if file.exists():\n",
    "        return json.loads(open(file,'r').read())['lawcount']\n",
    "    return 0\n",
    "\n",
    "deputies['lawCount'] = deputies['id'].apply(collectLawcountFromCachedFiles)"
   ]
  },
  {
   "cell_type": "markdown",
   "metadata": {},
   "source": [
    "То же самое можно сделать с регионами (я удаляю скобочки). Я знаю, что есть более изящные способы это делать через регулярные выражения и все такое, но мне лень было возиться для двух символов."
   ]
  },
  {
   "cell_type": "code",
   "execution_count": 88,
   "metadata": {},
   "outputs": [],
   "source": [
    "def collectRegionsFromCachedFiles(id):\n",
    "    file = Path('./cache/deputyinfo/{}.json'.format(id))\n",
    "    if file.exists():\n",
    "        region = json.loads(open(file,'r').read())['factionRegion']\n",
    "        if region != None:\n",
    "            return region.replace('(','').replace(')','')\n",
    "    return None\n",
    "\n",
    "deputies['region'] = deputies['id'].apply(collectRegionsFromCachedFiles)"
   ]
  },
  {
   "cell_type": "markdown",
   "metadata": {},
   "source": [
    "Теперь все это добро про депутатов можно свалить в файл. Я выбираю только активных депутатов и сортирую вывод по количеству законов."
   ]
  },
  {
   "cell_type": "code",
   "execution_count": 89,
   "metadata": {},
   "outputs": [],
   "source": [
    "def dumpActiveDeputiesToCSV():\n",
    "    deputies.loc[(deputies['isCurrent']==True) & (deputies['position'] == ('Депутат ГД'))].sort_values(by='lawCount', ascending=False).to_csv('_deputies.csv', index=False)\n",
    "dumpActiveDeputiesToCSV()"
   ]
  },
  {
   "cell_type": "markdown",
   "metadata": {},
   "source": [
    "А теперь начинается интересное. Если внимательно посмотреть на табличку, то выходит, что половина депутатов не участвует в разработки законов. Оказалось, что это не так - регионов у них тоже нет. А если пойти на сайт думы и поискать через сайт - то и законы и регионы отдаются. А через API отдаются эти данные далеко не для всех. \n",
    "\n",
    "Я написал письмо webmaster@duma.gov.ru - это был единственный адрес для контактов. Но это больше похоже на спортлото. Скорее всего, мне никто не ответит. Конечно, можно использовать scrapy и забирать недостающие данные через веб-страницы, но я пока попробую дождаться ответа. Во-первых, это может быть не единственным багов, а во-вторых, возиться с граберрами страниц лично мне не очень интересно.\n",
    "\n",
    "Я собирался начинать строить графики про количество законов по депутатам, регионам и вот это все, но делать это на неправильных данных было бы глупо. \n",
    "\n",
    "А пока - пауза."
   ]
  },
  {
   "cell_type": "markdown",
   "metadata": {},
   "source": [
    "А да. Еще вот можно начинать складировать информацию про сами законы. Начать можно с простого."
   ]
  },
  {
   "cell_type": "code",
   "execution_count": 19,
   "metadata": {},
   "outputs": [],
   "source": [
    "cache(prep(uLawAreas), 'lawareas.json')"
   ]
  },
  {
   "cell_type": "markdown",
   "metadata": {},
   "source": [
    "__UPDATE__\n",
    "\n",
    "Я не дождался ответа по почте, и написал через веб-сайт. Оттуда ответили буквально через день или два и сообщили, что починили ошибку. Я сейчас проверяю. Возможно ошибку починили, но теперь появилась другая, я уже поменял код сверху, чтобы ее обойти. Теперь есть более полноценные данные по всем активным депутатам. Можно вернуться к этим данным и что-нибудь посчитать."
   ]
  },
  {
   "cell_type": "markdown",
   "metadata": {},
   "source": [
    "Начнем с подсчета длительности нахождения депутата у депутатского руля."
   ]
  },
  {
   "cell_type": "code",
   "execution_count": 142,
   "metadata": {},
   "outputs": [],
   "source": [
    "def calculateDeputyDuration(id):\n",
    "    w = fractions.loc[fractions['deputy'] == id]\n",
    "    days = 0\n",
    "    for index, item in w.iterrows():\n",
    "        if item['end'] > datetime.today():\n",
    "            days+=(datetime.today()-item['start']).days\n",
    "        else:\n",
    "            days+=(item['end']-item['start']).days\n",
    "    return days"
   ]
  },
  {
   "cell_type": "code",
   "execution_count": 143,
   "metadata": {},
   "outputs": [],
   "source": [
    "deputies['daysInPower'] = deputies['id'].apply(lambda x:calculateDeputyDuration(x))"
   ]
  },
  {
   "cell_type": "code",
   "execution_count": 144,
   "metadata": {},
   "outputs": [],
   "source": [
    "dumpActiveDeputiesToCSV()"
   ]
  },
  {
   "cell_type": "markdown",
   "metadata": {},
   "source": [
    "Наконец-то можно посмотреть на какие-нибудь графики и поискать интересности. Мне интересно посмотреть, как количество проведенного у депутатского руля времени влияет на количество законов, в продвижении которых участвовал депутат. Рисовать графики довольно просто и я для этого есть много библиотек. Я буду использовать `lantern`. Сначала загрузим библиокету."
   ]
  },
  {
   "cell_type": "code",
   "execution_count": 92,
   "metadata": {},
   "outputs": [
    {
     "name": "stdout",
     "output_type": "stream",
     "text": [
      "Matplotlib loaded\n",
      "Cufflinks loaded\n"
     ]
    },
    {
     "data": {
      "text/html": [
       "\n",
       "    <div class=\"bk-root\">\n",
       "        <a href=\"https://bokeh.pydata.org\" target=\"_blank\" class=\"bk-logo bk-logo-small bk-logo-notebook\"></a>\n",
       "        <span id=\"f2189d6c-c2bf-4e6e-8680-fef2301f9464\">Loading BokehJS ...</span>\n",
       "    </div>"
      ]
     },
     "metadata": {},
     "output_type": "display_data"
    },
    {
     "data": {
      "application/javascript": [
       "\n",
       "(function(root) {\n",
       "  function now() {\n",
       "    return new Date();\n",
       "  }\n",
       "\n",
       "  var force = true;\n",
       "\n",
       "  if (typeof (root._bokeh_onload_callbacks) === \"undefined\" || force === true) {\n",
       "    root._bokeh_onload_callbacks = [];\n",
       "    root._bokeh_is_loading = undefined;\n",
       "  }\n",
       "\n",
       "  var JS_MIME_TYPE = 'application/javascript';\n",
       "  var HTML_MIME_TYPE = 'text/html';\n",
       "  var EXEC_MIME_TYPE = 'application/vnd.bokehjs_exec.v0+json';\n",
       "  var CLASS_NAME = 'output_bokeh rendered_html';\n",
       "\n",
       "  /**\n",
       "   * Render data to the DOM node\n",
       "   */\n",
       "  function render(props, node) {\n",
       "    var script = document.createElement(\"script\");\n",
       "    node.appendChild(script);\n",
       "  }\n",
       "\n",
       "  /**\n",
       "   * Handle when an output is cleared or removed\n",
       "   */\n",
       "  function handleClearOutput(event, handle) {\n",
       "    var cell = handle.cell;\n",
       "\n",
       "    var id = cell.output_area._bokeh_element_id;\n",
       "    var server_id = cell.output_area._bokeh_server_id;\n",
       "    // Clean up Bokeh references\n",
       "    if (id !== undefined) {\n",
       "      Bokeh.index[id].model.document.clear();\n",
       "      delete Bokeh.index[id];\n",
       "    }\n",
       "\n",
       "    if (server_id !== undefined) {\n",
       "      // Clean up Bokeh references\n",
       "      var cmd = \"from bokeh.io.state import curstate; print(curstate().uuid_to_server['\" + server_id + \"'].get_sessions()[0].document.roots[0]._id)\";\n",
       "      cell.notebook.kernel.execute(cmd, {\n",
       "        iopub: {\n",
       "          output: function(msg) {\n",
       "            var element_id = msg.content.text.trim();\n",
       "            Bokeh.index[element_id].model.document.clear();\n",
       "            delete Bokeh.index[element_id];\n",
       "          }\n",
       "        }\n",
       "      });\n",
       "      // Destroy server and session\n",
       "      var cmd = \"import bokeh.io.notebook as ion; ion.destroy_server('\" + server_id + \"')\";\n",
       "      cell.notebook.kernel.execute(cmd);\n",
       "    }\n",
       "  }\n",
       "\n",
       "  /**\n",
       "   * Handle when a new output is added\n",
       "   */\n",
       "  function handleAddOutput(event, handle) {\n",
       "    var output_area = handle.output_area;\n",
       "    var output = handle.output;\n",
       "\n",
       "    // limit handleAddOutput to display_data with EXEC_MIME_TYPE content only\n",
       "    if ((output.output_type != \"display_data\") || (!output.data.hasOwnProperty(EXEC_MIME_TYPE))) {\n",
       "      return\n",
       "    }\n",
       "\n",
       "    var toinsert = output_area.element.find(\".\" + CLASS_NAME.split(' ')[0]);\n",
       "\n",
       "    if (output.metadata[EXEC_MIME_TYPE][\"id\"] !== undefined) {\n",
       "      toinsert[0].firstChild.textContent = output.data[JS_MIME_TYPE];\n",
       "      // store reference to embed id on output_area\n",
       "      output_area._bokeh_element_id = output.metadata[EXEC_MIME_TYPE][\"id\"];\n",
       "    }\n",
       "    if (output.metadata[EXEC_MIME_TYPE][\"server_id\"] !== undefined) {\n",
       "      var bk_div = document.createElement(\"div\");\n",
       "      bk_div.innerHTML = output.data[HTML_MIME_TYPE];\n",
       "      var script_attrs = bk_div.children[0].attributes;\n",
       "      for (var i = 0; i < script_attrs.length; i++) {\n",
       "        toinsert[0].firstChild.setAttribute(script_attrs[i].name, script_attrs[i].value);\n",
       "      }\n",
       "      // store reference to server id on output_area\n",
       "      output_area._bokeh_server_id = output.metadata[EXEC_MIME_TYPE][\"server_id\"];\n",
       "    }\n",
       "  }\n",
       "\n",
       "  function register_renderer(events, OutputArea) {\n",
       "\n",
       "    function append_mime(data, metadata, element) {\n",
       "      // create a DOM node to render to\n",
       "      var toinsert = this.create_output_subarea(\n",
       "        metadata,\n",
       "        CLASS_NAME,\n",
       "        EXEC_MIME_TYPE\n",
       "      );\n",
       "      this.keyboard_manager.register_events(toinsert);\n",
       "      // Render to node\n",
       "      var props = {data: data, metadata: metadata[EXEC_MIME_TYPE]};\n",
       "      render(props, toinsert[0]);\n",
       "      element.append(toinsert);\n",
       "      return toinsert\n",
       "    }\n",
       "\n",
       "    /* Handle when an output is cleared or removed */\n",
       "    events.on('clear_output.CodeCell', handleClearOutput);\n",
       "    events.on('delete.Cell', handleClearOutput);\n",
       "\n",
       "    /* Handle when a new output is added */\n",
       "    events.on('output_added.OutputArea', handleAddOutput);\n",
       "\n",
       "    /**\n",
       "     * Register the mime type and append_mime function with output_area\n",
       "     */\n",
       "    OutputArea.prototype.register_mime_type(EXEC_MIME_TYPE, append_mime, {\n",
       "      /* Is output safe? */\n",
       "      safe: true,\n",
       "      /* Index of renderer in `output_area.display_order` */\n",
       "      index: 0\n",
       "    });\n",
       "  }\n",
       "\n",
       "  // register the mime type if in Jupyter Notebook environment and previously unregistered\n",
       "  if (root.Jupyter !== undefined) {\n",
       "    var events = require('base/js/events');\n",
       "    var OutputArea = require('notebook/js/outputarea').OutputArea;\n",
       "\n",
       "    if (OutputArea.prototype.mime_types().indexOf(EXEC_MIME_TYPE) == -1) {\n",
       "      register_renderer(events, OutputArea);\n",
       "    }\n",
       "  }\n",
       "\n",
       "  \n",
       "  if (typeof (root._bokeh_timeout) === \"undefined\" || force === true) {\n",
       "    root._bokeh_timeout = Date.now() + 5000;\n",
       "    root._bokeh_failed_load = false;\n",
       "  }\n",
       "\n",
       "  var NB_LOAD_WARNING = {'data': {'text/html':\n",
       "     \"<div style='background-color: #fdd'>\\n\"+\n",
       "     \"<p>\\n\"+\n",
       "     \"BokehJS does not appear to have successfully loaded. If loading BokehJS from CDN, this \\n\"+\n",
       "     \"may be due to a slow or bad network connection. Possible fixes:\\n\"+\n",
       "     \"</p>\\n\"+\n",
       "     \"<ul>\\n\"+\n",
       "     \"<li>re-rerun `output_notebook()` to attempt to load from CDN again, or</li>\\n\"+\n",
       "     \"<li>use INLINE resources instead, as so:</li>\\n\"+\n",
       "     \"</ul>\\n\"+\n",
       "     \"<code>\\n\"+\n",
       "     \"from bokeh.resources import INLINE\\n\"+\n",
       "     \"output_notebook(resources=INLINE)\\n\"+\n",
       "     \"</code>\\n\"+\n",
       "     \"</div>\"}};\n",
       "\n",
       "  function display_loaded() {\n",
       "    var el = document.getElementById(\"f2189d6c-c2bf-4e6e-8680-fef2301f9464\");\n",
       "    if (el != null) {\n",
       "      el.textContent = \"BokehJS is loading...\";\n",
       "    }\n",
       "    if (root.Bokeh !== undefined) {\n",
       "      if (el != null) {\n",
       "        el.textContent = \"BokehJS \" + root.Bokeh.version + \" successfully loaded.\";\n",
       "      }\n",
       "    } else if (Date.now() < root._bokeh_timeout) {\n",
       "      setTimeout(display_loaded, 100)\n",
       "    }\n",
       "  }\n",
       "\n",
       "\n",
       "  function run_callbacks() {\n",
       "    try {\n",
       "      root._bokeh_onload_callbacks.forEach(function(callback) { callback() });\n",
       "    }\n",
       "    finally {\n",
       "      delete root._bokeh_onload_callbacks\n",
       "    }\n",
       "    console.info(\"Bokeh: all callbacks have finished\");\n",
       "  }\n",
       "\n",
       "  function load_libs(js_urls, callback) {\n",
       "    root._bokeh_onload_callbacks.push(callback);\n",
       "    if (root._bokeh_is_loading > 0) {\n",
       "      console.log(\"Bokeh: BokehJS is being loaded, scheduling callback at\", now());\n",
       "      return null;\n",
       "    }\n",
       "    if (js_urls == null || js_urls.length === 0) {\n",
       "      run_callbacks();\n",
       "      return null;\n",
       "    }\n",
       "    console.log(\"Bokeh: BokehJS not loaded, scheduling load and callback at\", now());\n",
       "    root._bokeh_is_loading = js_urls.length;\n",
       "    for (var i = 0; i < js_urls.length; i++) {\n",
       "      var url = js_urls[i];\n",
       "      var s = document.createElement('script');\n",
       "      s.src = url;\n",
       "      s.async = false;\n",
       "      s.onreadystatechange = s.onload = function() {\n",
       "        root._bokeh_is_loading--;\n",
       "        if (root._bokeh_is_loading === 0) {\n",
       "          console.log(\"Bokeh: all BokehJS libraries loaded\");\n",
       "          run_callbacks()\n",
       "        }\n",
       "      };\n",
       "      s.onerror = function() {\n",
       "        console.warn(\"failed to load library \" + url);\n",
       "      };\n",
       "      console.log(\"Bokeh: injecting script tag for BokehJS library: \", url);\n",
       "      document.getElementsByTagName(\"head\")[0].appendChild(s);\n",
       "    }\n",
       "  };var element = document.getElementById(\"f2189d6c-c2bf-4e6e-8680-fef2301f9464\");\n",
       "  if (element == null) {\n",
       "    console.log(\"Bokeh: ERROR: autoload.js configured with elementid 'f2189d6c-c2bf-4e6e-8680-fef2301f9464' but no matching script tag was found. \")\n",
       "    return false;\n",
       "  }\n",
       "\n",
       "  var js_urls = [\"https://cdn.pydata.org/bokeh/release/bokeh-0.12.14.min.js\", \"https://cdn.pydata.org/bokeh/release/bokeh-widgets-0.12.14.min.js\", \"https://cdn.pydata.org/bokeh/release/bokeh-tables-0.12.14.min.js\", \"https://cdn.pydata.org/bokeh/release/bokeh-gl-0.12.14.min.js\"];\n",
       "\n",
       "  var inline_js = [\n",
       "    function(Bokeh) {\n",
       "      Bokeh.set_log_level(\"info\");\n",
       "    },\n",
       "    \n",
       "    function(Bokeh) {\n",
       "      \n",
       "    },\n",
       "    function(Bokeh) {\n",
       "      console.log(\"Bokeh: injecting CSS: https://cdn.pydata.org/bokeh/release/bokeh-0.12.14.min.css\");\n",
       "      Bokeh.embed.inject_css(\"https://cdn.pydata.org/bokeh/release/bokeh-0.12.14.min.css\");\n",
       "      console.log(\"Bokeh: injecting CSS: https://cdn.pydata.org/bokeh/release/bokeh-widgets-0.12.14.min.css\");\n",
       "      Bokeh.embed.inject_css(\"https://cdn.pydata.org/bokeh/release/bokeh-widgets-0.12.14.min.css\");\n",
       "      console.log(\"Bokeh: injecting CSS: https://cdn.pydata.org/bokeh/release/bokeh-tables-0.12.14.min.css\");\n",
       "      Bokeh.embed.inject_css(\"https://cdn.pydata.org/bokeh/release/bokeh-tables-0.12.14.min.css\");\n",
       "    }\n",
       "  ];\n",
       "\n",
       "  function run_inline_js() {\n",
       "    \n",
       "    if ((root.Bokeh !== undefined) || (force === true)) {\n",
       "      for (var i = 0; i < inline_js.length; i++) {\n",
       "        inline_js[i].call(root, root.Bokeh);\n",
       "      }if (force === true) {\n",
       "        display_loaded();\n",
       "      }} else if (Date.now() < root._bokeh_timeout) {\n",
       "      setTimeout(run_inline_js, 100);\n",
       "    } else if (!root._bokeh_failed_load) {\n",
       "      console.log(\"Bokeh: BokehJS failed to load within specified timeout.\");\n",
       "      root._bokeh_failed_load = true;\n",
       "    } else if (force !== true) {\n",
       "      var cell = $(document.getElementById(\"f2189d6c-c2bf-4e6e-8680-fef2301f9464\")).parents('.cell').data().cell;\n",
       "      cell.output_area.append_execute_result(NB_LOAD_WARNING)\n",
       "    }\n",
       "\n",
       "  }\n",
       "\n",
       "  if (root._bokeh_is_loading === 0) {\n",
       "    console.log(\"Bokeh: BokehJS loaded, going straight to plotting\");\n",
       "    run_inline_js();\n",
       "  } else {\n",
       "    load_libs(js_urls, function() {\n",
       "      console.log(\"Bokeh: BokehJS plotting callback run at\", now());\n",
       "      run_inline_js();\n",
       "    });\n",
       "  }\n",
       "}(window));"
      ],
      "application/vnd.bokehjs_load.v0+json": "\n(function(root) {\n  function now() {\n    return new Date();\n  }\n\n  var force = true;\n\n  if (typeof (root._bokeh_onload_callbacks) === \"undefined\" || force === true) {\n    root._bokeh_onload_callbacks = [];\n    root._bokeh_is_loading = undefined;\n  }\n\n  \n\n  \n  if (typeof (root._bokeh_timeout) === \"undefined\" || force === true) {\n    root._bokeh_timeout = Date.now() + 5000;\n    root._bokeh_failed_load = false;\n  }\n\n  var NB_LOAD_WARNING = {'data': {'text/html':\n     \"<div style='background-color: #fdd'>\\n\"+\n     \"<p>\\n\"+\n     \"BokehJS does not appear to have successfully loaded. If loading BokehJS from CDN, this \\n\"+\n     \"may be due to a slow or bad network connection. Possible fixes:\\n\"+\n     \"</p>\\n\"+\n     \"<ul>\\n\"+\n     \"<li>re-rerun `output_notebook()` to attempt to load from CDN again, or</li>\\n\"+\n     \"<li>use INLINE resources instead, as so:</li>\\n\"+\n     \"</ul>\\n\"+\n     \"<code>\\n\"+\n     \"from bokeh.resources import INLINE\\n\"+\n     \"output_notebook(resources=INLINE)\\n\"+\n     \"</code>\\n\"+\n     \"</div>\"}};\n\n  function display_loaded() {\n    var el = document.getElementById(\"f2189d6c-c2bf-4e6e-8680-fef2301f9464\");\n    if (el != null) {\n      el.textContent = \"BokehJS is loading...\";\n    }\n    if (root.Bokeh !== undefined) {\n      if (el != null) {\n        el.textContent = \"BokehJS \" + root.Bokeh.version + \" successfully loaded.\";\n      }\n    } else if (Date.now() < root._bokeh_timeout) {\n      setTimeout(display_loaded, 100)\n    }\n  }\n\n\n  function run_callbacks() {\n    try {\n      root._bokeh_onload_callbacks.forEach(function(callback) { callback() });\n    }\n    finally {\n      delete root._bokeh_onload_callbacks\n    }\n    console.info(\"Bokeh: all callbacks have finished\");\n  }\n\n  function load_libs(js_urls, callback) {\n    root._bokeh_onload_callbacks.push(callback);\n    if (root._bokeh_is_loading > 0) {\n      console.log(\"Bokeh: BokehJS is being loaded, scheduling callback at\", now());\n      return null;\n    }\n    if (js_urls == null || js_urls.length === 0) {\n      run_callbacks();\n      return null;\n    }\n    console.log(\"Bokeh: BokehJS not loaded, scheduling load and callback at\", now());\n    root._bokeh_is_loading = js_urls.length;\n    for (var i = 0; i < js_urls.length; i++) {\n      var url = js_urls[i];\n      var s = document.createElement('script');\n      s.src = url;\n      s.async = false;\n      s.onreadystatechange = s.onload = function() {\n        root._bokeh_is_loading--;\n        if (root._bokeh_is_loading === 0) {\n          console.log(\"Bokeh: all BokehJS libraries loaded\");\n          run_callbacks()\n        }\n      };\n      s.onerror = function() {\n        console.warn(\"failed to load library \" + url);\n      };\n      console.log(\"Bokeh: injecting script tag for BokehJS library: \", url);\n      document.getElementsByTagName(\"head\")[0].appendChild(s);\n    }\n  };var element = document.getElementById(\"f2189d6c-c2bf-4e6e-8680-fef2301f9464\");\n  if (element == null) {\n    console.log(\"Bokeh: ERROR: autoload.js configured with elementid 'f2189d6c-c2bf-4e6e-8680-fef2301f9464' but no matching script tag was found. \")\n    return false;\n  }\n\n  var js_urls = [\"https://cdn.pydata.org/bokeh/release/bokeh-0.12.14.min.js\", \"https://cdn.pydata.org/bokeh/release/bokeh-widgets-0.12.14.min.js\", \"https://cdn.pydata.org/bokeh/release/bokeh-tables-0.12.14.min.js\", \"https://cdn.pydata.org/bokeh/release/bokeh-gl-0.12.14.min.js\"];\n\n  var inline_js = [\n    function(Bokeh) {\n      Bokeh.set_log_level(\"info\");\n    },\n    \n    function(Bokeh) {\n      \n    },\n    function(Bokeh) {\n      console.log(\"Bokeh: injecting CSS: https://cdn.pydata.org/bokeh/release/bokeh-0.12.14.min.css\");\n      Bokeh.embed.inject_css(\"https://cdn.pydata.org/bokeh/release/bokeh-0.12.14.min.css\");\n      console.log(\"Bokeh: injecting CSS: https://cdn.pydata.org/bokeh/release/bokeh-widgets-0.12.14.min.css\");\n      Bokeh.embed.inject_css(\"https://cdn.pydata.org/bokeh/release/bokeh-widgets-0.12.14.min.css\");\n      console.log(\"Bokeh: injecting CSS: https://cdn.pydata.org/bokeh/release/bokeh-tables-0.12.14.min.css\");\n      Bokeh.embed.inject_css(\"https://cdn.pydata.org/bokeh/release/bokeh-tables-0.12.14.min.css\");\n    }\n  ];\n\n  function run_inline_js() {\n    \n    if ((root.Bokeh !== undefined) || (force === true)) {\n      for (var i = 0; i < inline_js.length; i++) {\n        inline_js[i].call(root, root.Bokeh);\n      }if (force === true) {\n        display_loaded();\n      }} else if (Date.now() < root._bokeh_timeout) {\n      setTimeout(run_inline_js, 100);\n    } else if (!root._bokeh_failed_load) {\n      console.log(\"Bokeh: BokehJS failed to load within specified timeout.\");\n      root._bokeh_failed_load = true;\n    } else if (force !== true) {\n      var cell = $(document.getElementById(\"f2189d6c-c2bf-4e6e-8680-fef2301f9464\")).parents('.cell').data().cell;\n      cell.output_area.append_execute_result(NB_LOAD_WARNING)\n    }\n\n  }\n\n  if (root._bokeh_is_loading === 0) {\n    console.log(\"Bokeh: BokehJS loaded, going straight to plotting\");\n    run_inline_js();\n  } else {\n    load_libs(js_urls, function() {\n      console.log(\"Bokeh: BokehJS plotting callback run at\", now());\n      run_inline_js();\n    });\n  }\n}(window));"
     },
     "metadata": {},
     "output_type": "display_data"
    },
    {
     "name": "stdout",
     "output_type": "stream",
     "text": [
      "Plot.ly loaded\n",
      "Qgrid loaded\n"
     ]
    }
   ],
   "source": [
    "import lantern as l"
   ]
  },
  {
   "cell_type": "markdown",
   "metadata": {},
   "source": [
    "Теперь создадим график. Я думаю, по коду все довольно хорошо понятно."
   ]
  },
  {
   "cell_type": "code",
   "execution_count": 204,
   "metadata": {},
   "outputs": [],
   "source": [
    "currentDumaDeputies = deputies.loc[(deputies['isCurrent']==True) & (deputies['position'] == 'Депутат ГД')]"
   ]
  },
  {
   "cell_type": "code",
   "execution_count": 205,
   "metadata": {},
   "outputs": [
    {
     "data": {
      "image/png": "[encoded data removed]",
      "text/plain": [
       "<Figure size 864x360 with 1 Axes>"
      ]
     },
     "metadata": {
      "image/png": {
       "height": 317,
       "width": 725
      }
     },
     "output_type": "display_data"
    }
   ],
   "source": [
    "f = l.figure('matplotlib')\n",
    "f.scatter(data=currentDumaDeputies[['daysInPower','lawCount']], x='daysInPower', y='lawCount', color='black')\n",
    "f.show(xlabel='Длительность депутатство, дней', ylabel='Количество лобируемых законов', legend=None)"
   ]
  },
  {
   "cell_type": "markdown",
   "metadata": {},
   "source": [
    "Вот тут начинается наука - нужно строить интересные тезисы и как-то их доказывать. Тут интересно было бы услышать размышления публики, что в этих данных можно интересного найти, наверняка что-то есть. Чтобы не рисовать всякие графики каждый раз отдельно, можно написать простую функцию."
   ]
  },
  {
   "cell_type": "code",
   "execution_count": 207,
   "metadata": {},
   "outputs": [],
   "source": [
    "def plotScatterXY(title, data, x, y):\n",
    "    f = l.figure()\n",
    "    f.scatter(data=data[[x,y]],x=y,y=y)\n",
    "    f.show(title=title, legend=False)"
   ]
  },
  {
   "cell_type": "code",
   "execution_count": 208,
   "metadata": {},
   "outputs": [
    {
     "data": {
      "image/png": "[encoded data removed]",
      "text/plain": [
       "<Figure size 864x360 with 1 Axes>"
      ]
     },
     "metadata": {
      "image/png": {
       "height": 318,
       "width": 712
      }
     },
     "output_type": "display_data"
    }
   ],
   "source": [
    "plotScatterXY('Начало депутатства / количество законов', currentDumaDeputies, 'firstStart','lawCount')"
   ]
  },
  {
   "cell_type": "code",
   "execution_count": 211,
   "metadata": {},
   "outputs": [
    {
     "data": {
      "image/png": "[encoded data removed]",
      "text/plain": [
       "<Figure size 864x360 with 1 Axes>"
      ]
     },
     "metadata": {
      "image/png": {
       "height": 318,
       "width": 705
      }
     },
     "output_type": "display_data"
    }
   ],
   "source": [
    "plotScatterXY('Начало депутаства / количество франций', currentDumaDeputies, 'firstStart','fractionsCount')"
   ]
  },
  {
   "cell_type": "code",
   "execution_count": 212,
   "metadata": {},
   "outputs": [
    {
     "data": {
      "image/png": "[encoded data removed]",
      "text/plain": [
       "<Figure size 864x360 with 1 Axes>"
      ]
     },
     "metadata": {
      "image/png": {
       "height": 318,
       "width": 724
      }
     },
     "output_type": "display_data"
    }
   ],
   "source": [
    "plotScatterXY('Начало депутаства / количество дней у руля', currentDumaDeputies, 'firstStart','daysInPower')"
   ]
  },
  {
   "cell_type": "code",
   "execution_count": null,
   "metadata": {},
   "outputs": [],
   "source": []
  }
 ],
 "metadata": {
  "kernelspec": {
   "display_name": "Python 3",
   "language": "python",
   "name": "python3"
  },
  "language_info": {
   "codemirror_mode": {
    "name": "ipython",
    "version": 3
   },
   "file_extension": ".py",
   "mimetype": "text/x-python",
   "name": "python",
   "nbconvert_exporter": "python",
   "pygments_lexer": "ipython3",
   "version": "3.6.0"
  }
 },
 "nbformat": 4,
 "nbformat_minor": 2
}
