{
 "cells": [
  {
   "cell_type": "markdown",
   "metadata": {},
   "source": [
    "# User Activity Monitoring and Analytics\n",
    "In this presentation, we will model a simple user activity model and use logical and visual tools to analyze this data\n",
    "\n",
    "First, let's define some basic functions to prepare environment and generate random data"
   ]
  },
  {
   "cell_type": "code",
   "execution_count": 1,
   "metadata": {},
   "outputs": [],
   "source": [
    "import random\n",
    "import pandas as pd\n",
    "from itertools import tee\n",
    "import numpy as np\n",
    "\n",
    "_pages = \"\"\"\n",
    "/Login\n",
    "/Login/forgotpassword\n",
    "/Logout\n",
    "/Home\n",
    "/Home/Events\n",
    "/Home/TickerPriceHistory/\n",
    "/Holdings\n",
    "/Holdings/Details/%w\n",
    "/Activities/\n",
    "/Activities/Details/%w\n",
    "/Alerts\n",
    "/Elections/\n",
    "/Elections/Details/%w\n",
    "/AE/\n",
    "/AE/Dashboard\n",
    "/AE/RSU\n",
    "/AE/RCA\n",
    "/AE/SAR\n",
    "/AE/ESPP\n",
    "/Help\n",
    "/Contacts\n",
    "/PageNotFound\n",
    "/ServerError\n",
    "\"\"\"\n",
    "\n",
    "dates_range = pd.date_range(start='1/4/2018 00:00:00', end='1/4/2018 23:59:59', freq='S')\n",
    "\n",
    "pages = _pages.split('\\n')[1:-1]\n",
    "\n",
    "def pairwise(iterable):\n",
    "    \"s -> (s0,s1), (s1,s2), (s2, s3), ...\"\n",
    "    a, b = tee(iterable)\n",
    "    next(b, None)\n",
    "    return zip(a, b)\n",
    "\n",
    "def rand_userId():\n",
    "    return random.randrange(500000,500200)\n",
    "\n",
    "def rand_page():\n",
    "    return random.choice(pages).replace('%w',str(random.randrange(1,10000)))\n",
    "\n",
    "def rand_timestamp():\n",
    "    return dates_range[random.randrange(0,dates_range.size-1)]\n",
    "\n",
    "def rand_vectorized_timestamp(iterations):\n",
    "    pos = 0\n",
    "    _generated_range = []\n",
    "    for i in range(iterations):\n",
    "        pos = random.randrange(pos,dates_range.size-1)\n",
    "        _generated_range.append(dates_range[pos])\n",
    "    return _generated_range\n",
    "\n",
    "def generate_single_user_activity(rows):\n",
    "    id = rand_userId()\n",
    "    _data = []\n",
    "    _timestamps = rand_vectorized_timestamp(rows)\n",
    "    for element in _timestamps:\n",
    "        _data.append([id, element, rand_page()])\n",
    "    return pd.DataFrame(data=_data, columns=['UserId','TimeStamp','URL'])\n",
    "\n",
    "def generate_multiple_user_activity(rows):\n",
    "    _data = []\n",
    "    for i in range(rows):\n",
    "        _data.append([rand_userId(),rand_timestamp(), rand_page()])\n",
    "    return pd.DataFrame(data=_data, columns=['userid','timestamp','page'])\n",
    "\n",
    "def calculate_timespent():\n",
    "    for index, row in data.iterrows():\n",
    "        try:\n",
    "            next_row = data[(data.index > index) & (data.userid == row.userid)].iloc[0]\n",
    "            delta = next_row.timestamp - row.timestamp\n",
    "            delta_minutes = round(delta.total_seconds()/60)\n",
    "            data.at[index, 'timespent'] = delta_minutes\n",
    "        except IndexError as e:\n",
    "            pass\n",
    "        except Exception as ex:\n",
    "            print(ex)\n",
    "            \n",
    "def show_links(userid):\n",
    "    suv = data[data.userid==userid]\n",
    "    print(\"%s records found for user %s\" % (suv.shape[0], userid))\n",
    "    for (i0, row0), (i1, row1) in pairwise(suv.iterrows()):\n",
    "        print(\"%s (%s) -> %s\" % (row0.page, row0.timespent, row1.page))\n",
    "        \n",
    "        #data.page.value_counts().head(50).plot(kind='bar',figsize=(20,20),x='page')"
   ]
  },
  {
   "cell_type": "markdown",
   "metadata": {},
   "source": [
    "## Let's generate some random data"
   ]
  },
  {
   "cell_type": "code",
   "execution_count": 4,
   "metadata": {},
   "outputs": [],
   "source": [
    "data = generate_multiple_user_activity(5000)"
   ]
  },
  {
   "cell_type": "markdown",
   "metadata": {},
   "source": [
    "## Now that we have data, let's look at it"
   ]
  },
  {
   "cell_type": "code",
   "execution_count": 5,
   "metadata": {},
   "outputs": [
    {
     "data": {
      "text/html": [
       "<div>\n",
       "<style scoped>\n",
       "    .dataframe tbody tr th:only-of-type {\n",
       "        vertical-align: middle;\n",
       "    }\n",
       "\n",
       "    .dataframe tbody tr th {\n",
       "        vertical-align: top;\n",
       "    }\n",
       "\n",
       "    .dataframe thead th {\n",
       "        text-align: right;\n",
       "    }\n",
       "</style>\n",
       "<table border=\"1\" class=\"dataframe\">\n",
       "  <thead>\n",
       "    <tr style=\"text-align: right;\">\n",
       "      <th></th>\n",
       "      <th>userid</th>\n",
       "      <th>timestamp</th>\n",
       "      <th>page</th>\n",
       "    </tr>\n",
       "  </thead>\n",
       "  <tbody>\n",
       "    <tr>\n",
       "      <th>0</th>\n",
       "      <td>500115</td>\n",
       "      <td>2018-01-04 17:23:41</td>\n",
       "      <td>/PageNotFound</td>\n",
       "    </tr>\n",
       "    <tr>\n",
       "      <th>1</th>\n",
       "      <td>500137</td>\n",
       "      <td>2018-01-04 23:13:54</td>\n",
       "      <td>/Alerts</td>\n",
       "    </tr>\n",
       "    <tr>\n",
       "      <th>2</th>\n",
       "      <td>500032</td>\n",
       "      <td>2018-01-04 22:45:17</td>\n",
       "      <td>/Login</td>\n",
       "    </tr>\n",
       "    <tr>\n",
       "      <th>3</th>\n",
       "      <td>500187</td>\n",
       "      <td>2018-01-04 01:57:33</td>\n",
       "      <td>/Home/TickerPriceHistory/</td>\n",
       "    </tr>\n",
       "    <tr>\n",
       "      <th>4</th>\n",
       "      <td>500055</td>\n",
       "      <td>2018-01-04 23:15:22</td>\n",
       "      <td>/AE/</td>\n",
       "    </tr>\n",
       "  </tbody>\n",
       "</table>\n",
       "</div>"
      ],
      "text/plain": [
       "   userid           timestamp                       page\n",
       "0  500115 2018-01-04 17:23:41              /PageNotFound\n",
       "1  500137 2018-01-04 23:13:54                    /Alerts\n",
       "2  500032 2018-01-04 22:45:17                     /Login\n",
       "3  500187 2018-01-04 01:57:33  /Home/TickerPriceHistory/\n",
       "4  500055 2018-01-04 23:15:22                       /AE/"
      ]
     },
     "execution_count": 5,
     "metadata": {},
     "output_type": "execute_result"
    }
   ],
   "source": [
    "data.head(5)"
   ]
  },
  {
   "cell_type": "markdown",
   "metadata": {},
   "source": [
    "## Let's sort the data by timestamp and align the indexes\n",
    "We will also add an extra `timespent` column to calculate how long users have spent of specific pages"
   ]
  },
  {
   "cell_type": "code",
   "execution_count": 7,
   "metadata": {},
   "outputs": [
    {
     "data": {
      "text/html": [
       "<div>\n",
       "<style scoped>\n",
       "    .dataframe tbody tr th:only-of-type {\n",
       "        vertical-align: middle;\n",
       "    }\n",
       "\n",
       "    .dataframe tbody tr th {\n",
       "        vertical-align: top;\n",
       "    }\n",
       "\n",
       "    .dataframe thead th {\n",
       "        text-align: right;\n",
       "    }\n",
       "</style>\n",
       "<table border=\"1\" class=\"dataframe\">\n",
       "  <thead>\n",
       "    <tr style=\"text-align: right;\">\n",
       "      <th></th>\n",
       "      <th>userid</th>\n",
       "      <th>timestamp</th>\n",
       "      <th>page</th>\n",
       "      <th>timespent</th>\n",
       "    </tr>\n",
       "  </thead>\n",
       "  <tbody>\n",
       "    <tr>\n",
       "      <th>0</th>\n",
       "      <td>500116</td>\n",
       "      <td>2018-01-04 00:00:43</td>\n",
       "      <td>/AE/RSU</td>\n",
       "      <td>NaN</td>\n",
       "    </tr>\n",
       "    <tr>\n",
       "      <th>1</th>\n",
       "      <td>500064</td>\n",
       "      <td>2018-01-04 00:02:01</td>\n",
       "      <td>/Help</td>\n",
       "      <td>NaN</td>\n",
       "    </tr>\n",
       "    <tr>\n",
       "      <th>2</th>\n",
       "      <td>500180</td>\n",
       "      <td>2018-01-04 00:02:04</td>\n",
       "      <td>/ServerError</td>\n",
       "      <td>NaN</td>\n",
       "    </tr>\n",
       "    <tr>\n",
       "      <th>3</th>\n",
       "      <td>500175</td>\n",
       "      <td>2018-01-04 00:02:19</td>\n",
       "      <td>/Home</td>\n",
       "      <td>NaN</td>\n",
       "    </tr>\n",
       "    <tr>\n",
       "      <th>4</th>\n",
       "      <td>500072</td>\n",
       "      <td>2018-01-04 00:02:55</td>\n",
       "      <td>/Home/TickerPriceHistory/</td>\n",
       "      <td>NaN</td>\n",
       "    </tr>\n",
       "  </tbody>\n",
       "</table>\n",
       "</div>"
      ],
      "text/plain": [
       "   userid           timestamp                       page  timespent\n",
       "0  500116 2018-01-04 00:00:43                    /AE/RSU        NaN\n",
       "1  500064 2018-01-04 00:02:01                      /Help        NaN\n",
       "2  500180 2018-01-04 00:02:04               /ServerError        NaN\n",
       "3  500175 2018-01-04 00:02:19                      /Home        NaN\n",
       "4  500072 2018-01-04 00:02:55  /Home/TickerPriceHistory/        NaN"
      ]
     },
     "execution_count": 7,
     "metadata": {},
     "output_type": "execute_result"
    }
   ],
   "source": [
    "data = data.sort_values('timestamp').reset_index(drop=True)\n",
    "data['timespent'] = np.nan\n",
    "pd.to_numeric(data.timespent,errors='raise')\n",
    "data.head(5)"
   ]
  },
  {
   "cell_type": "markdown",
   "metadata": {},
   "source": [
    "## I built a function that will calculate time spent between clicks, it takes time to chain up all the records, but it can be optimized"
   ]
  },
  {
   "cell_type": "code",
   "execution_count": 8,
   "metadata": {},
   "outputs": [
    {
     "name": "stdout",
     "output_type": "stream",
     "text": [
      "CPU times: user 6.68 s, sys: 10 ms, total: 6.69 s\n",
      "Wall time: 6.69 s\n"
     ]
    }
   ],
   "source": [
    "%time calculate_timespent()"
   ]
  },
  {
   "cell_type": "markdown",
   "metadata": {},
   "source": [
    "### Let's look at the data now with time spent (in minutes) for a particular user"
   ]
  },
  {
   "cell_type": "code",
   "execution_count": 11,
   "metadata": {},
   "outputs": [
    {
     "data": {
      "text/html": [
       "<div>\n",
       "<style scoped>\n",
       "    .dataframe tbody tr th:only-of-type {\n",
       "        vertical-align: middle;\n",
       "    }\n",
       "\n",
       "    .dataframe tbody tr th {\n",
       "        vertical-align: top;\n",
       "    }\n",
       "\n",
       "    .dataframe thead th {\n",
       "        text-align: right;\n",
       "    }\n",
       "</style>\n",
       "<table border=\"1\" class=\"dataframe\">\n",
       "  <thead>\n",
       "    <tr style=\"text-align: right;\">\n",
       "      <th></th>\n",
       "      <th>userid</th>\n",
       "      <th>timestamp</th>\n",
       "      <th>page</th>\n",
       "      <th>timespent</th>\n",
       "    </tr>\n",
       "  </thead>\n",
       "  <tbody>\n",
       "    <tr>\n",
       "      <th>2594</th>\n",
       "      <td>500116</td>\n",
       "      <td>2018-01-04 12:22:19</td>\n",
       "      <td>/AE/Dashboard</td>\n",
       "      <td>98.0</td>\n",
       "    </tr>\n",
       "    <tr>\n",
       "      <th>2952</th>\n",
       "      <td>500116</td>\n",
       "      <td>2018-01-04 14:00:49</td>\n",
       "      <td>/Elections/</td>\n",
       "      <td>132.0</td>\n",
       "    </tr>\n",
       "    <tr>\n",
       "      <th>3417</th>\n",
       "      <td>500116</td>\n",
       "      <td>2018-01-04 16:12:49</td>\n",
       "      <td>/AE/SAR</td>\n",
       "      <td>68.0</td>\n",
       "    </tr>\n",
       "    <tr>\n",
       "      <th>3638</th>\n",
       "      <td>500116</td>\n",
       "      <td>2018-01-04 17:20:39</td>\n",
       "      <td>/AE/RSU</td>\n",
       "      <td>170.0</td>\n",
       "    </tr>\n",
       "    <tr>\n",
       "      <th>4220</th>\n",
       "      <td>500116</td>\n",
       "      <td>2018-01-04 20:10:47</td>\n",
       "      <td>/AE/SAR</td>\n",
       "      <td>NaN</td>\n",
       "    </tr>\n",
       "  </tbody>\n",
       "</table>\n",
       "</div>"
      ],
      "text/plain": [
       "      userid           timestamp           page  timespent\n",
       "2594  500116 2018-01-04 12:22:19  /AE/Dashboard       98.0\n",
       "2952  500116 2018-01-04 14:00:49    /Elections/      132.0\n",
       "3417  500116 2018-01-04 16:12:49        /AE/SAR       68.0\n",
       "3638  500116 2018-01-04 17:20:39        /AE/RSU      170.0\n",
       "4220  500116 2018-01-04 20:10:47        /AE/SAR        NaN"
      ]
     },
     "execution_count": 11,
     "metadata": {},
     "output_type": "execute_result"
    }
   ],
   "source": [
    "data[data.userid==500116].tail(5)"
   ]
  },
  {
   "cell_type": "markdown",
   "metadata": {},
   "source": [
    "## Let's calculate some stats\n",
    "\n",
    "Some hints: `data.describe()` also via `data.set_index([...]).stack.groupby(level=0).describe().unstack()`"
   ]
  },
  {
   "cell_type": "code",
   "execution_count": 12,
   "metadata": {},
   "outputs": [
    {
     "name": "stdout",
     "output_type": "stream",
     "text": [
      "200 unique visitors\n"
     ]
    }
   ],
   "source": [
    "print(\"%s unique visitors\" % data.userid.unique().size)"
   ]
  },
  {
   "cell_type": "markdown",
   "metadata": {},
   "source": [
    "## Time spent on pages statistics, per page"
   ]
  },
  {
   "cell_type": "code",
   "execution_count": 14,
   "metadata": {},
   "outputs": [
    {
     "name": "stdout",
     "output_type": "stream",
     "text": [
      "CPU times: user 10 ms, sys: 0 ns, total: 10 ms\n",
      "Wall time: 15.9 ms\n"
     ]
    },
    {
     "data": {
      "text/html": [
       "<div>\n",
       "<style scoped>\n",
       "    .dataframe tbody tr th:only-of-type {\n",
       "        vertical-align: middle;\n",
       "    }\n",
       "\n",
       "    .dataframe tbody tr th {\n",
       "        vertical-align: top;\n",
       "    }\n",
       "\n",
       "    .dataframe thead th {\n",
       "        text-align: right;\n",
       "    }\n",
       "</style>\n",
       "<table border=\"1\" class=\"dataframe\">\n",
       "  <thead>\n",
       "    <tr style=\"text-align: right;\">\n",
       "      <th></th>\n",
       "      <th>Hits</th>\n",
       "      <th>Sum</th>\n",
       "      <th>Max</th>\n",
       "      <th>Min</th>\n",
       "      <th>Mean</th>\n",
       "    </tr>\n",
       "    <tr>\n",
       "      <th>page</th>\n",
       "      <th></th>\n",
       "      <th></th>\n",
       "      <th></th>\n",
       "      <th></th>\n",
       "      <th></th>\n",
       "    </tr>\n",
       "  </thead>\n",
       "  <tbody>\n",
       "    <tr>\n",
       "      <th>/AE/</th>\n",
       "      <td>228</td>\n",
       "      <td>12131.0</td>\n",
       "      <td>355.0</td>\n",
       "      <td>0.0</td>\n",
       "      <td>55.392694</td>\n",
       "    </tr>\n",
       "    <tr>\n",
       "      <th>/AE/Dashboard</th>\n",
       "      <td>194</td>\n",
       "      <td>12347.0</td>\n",
       "      <td>422.0</td>\n",
       "      <td>0.0</td>\n",
       "      <td>65.675532</td>\n",
       "    </tr>\n",
       "    <tr>\n",
       "      <th>/AE/ESPP</th>\n",
       "      <td>199</td>\n",
       "      <td>10913.0</td>\n",
       "      <td>271.0</td>\n",
       "      <td>0.0</td>\n",
       "      <td>56.838542</td>\n",
       "    </tr>\n",
       "    <tr>\n",
       "      <th>/AE/RCA</th>\n",
       "      <td>228</td>\n",
       "      <td>12107.0</td>\n",
       "      <td>297.0</td>\n",
       "      <td>0.0</td>\n",
       "      <td>55.792627</td>\n",
       "    </tr>\n",
       "    <tr>\n",
       "      <th>/AE/RSU</th>\n",
       "      <td>220</td>\n",
       "      <td>12102.0</td>\n",
       "      <td>419.0</td>\n",
       "      <td>0.0</td>\n",
       "      <td>57.904306</td>\n",
       "    </tr>\n",
       "    <tr>\n",
       "      <th>/AE/SAR</th>\n",
       "      <td>218</td>\n",
       "      <td>13061.0</td>\n",
       "      <td>381.0</td>\n",
       "      <td>0.0</td>\n",
       "      <td>61.032710</td>\n",
       "    </tr>\n",
       "    <tr>\n",
       "      <th>/Activities/</th>\n",
       "      <td>227</td>\n",
       "      <td>11095.0</td>\n",
       "      <td>256.0</td>\n",
       "      <td>0.0</td>\n",
       "      <td>50.203620</td>\n",
       "    </tr>\n",
       "    <tr>\n",
       "      <th>/Activities/Details/1048</th>\n",
       "      <td>1</td>\n",
       "      <td>164.0</td>\n",
       "      <td>164.0</td>\n",
       "      <td>164.0</td>\n",
       "      <td>164.000000</td>\n",
       "    </tr>\n",
       "    <tr>\n",
       "      <th>/Activities/Details/109</th>\n",
       "      <td>1</td>\n",
       "      <td>47.0</td>\n",
       "      <td>47.0</td>\n",
       "      <td>47.0</td>\n",
       "      <td>47.000000</td>\n",
       "    </tr>\n",
       "    <tr>\n",
       "      <th>/Activities/Details/1157</th>\n",
       "      <td>1</td>\n",
       "      <td>110.0</td>\n",
       "      <td>110.0</td>\n",
       "      <td>110.0</td>\n",
       "      <td>110.000000</td>\n",
       "    </tr>\n",
       "  </tbody>\n",
       "</table>\n",
       "</div>"
      ],
      "text/plain": [
       "                          Hits      Sum    Max    Min        Mean\n",
       "page                                                             \n",
       "/AE/                       228  12131.0  355.0    0.0   55.392694\n",
       "/AE/Dashboard              194  12347.0  422.0    0.0   65.675532\n",
       "/AE/ESPP                   199  10913.0  271.0    0.0   56.838542\n",
       "/AE/RCA                    228  12107.0  297.0    0.0   55.792627\n",
       "/AE/RSU                    220  12102.0  419.0    0.0   57.904306\n",
       "/AE/SAR                    218  13061.0  381.0    0.0   61.032710\n",
       "/Activities/               227  11095.0  256.0    0.0   50.203620\n",
       "/Activities/Details/1048     1    164.0  164.0  164.0  164.000000\n",
       "/Activities/Details/109      1     47.0   47.0   47.0   47.000000\n",
       "/Activities/Details/1157     1    110.0  110.0  110.0  110.000000"
      ]
     },
     "execution_count": 14,
     "metadata": {},
     "output_type": "execute_result"
    }
   ],
   "source": [
    "rows=10\n",
    "metrics = dict(size=\"Hits\",sum=\"Sum\",max=\"Max\",min=\"Min\",mean=\"Mean\")\n",
    "%time data.groupby('page').timespent.agg(metrics.keys()).rename(columns=metrics).head(rows)"
   ]
  },
  {
   "cell_type": "markdown",
   "metadata": {},
   "source": [
    "## User-bases statistics"
   ]
  },
  {
   "cell_type": "code",
   "execution_count": 24,
   "metadata": {},
   "outputs": [
    {
     "data": {
      "text/plain": [
       "userid  page                     \n",
       "500000  /AE/RCA                      2\n",
       "        /Activities/                 2\n",
       "        /Alerts                      2\n",
       "        /Help                        2\n",
       "        /Holdings                    2\n",
       "        /Home/Events                 2\n",
       "        /AE/                         1\n",
       "        /AE/ESPP                     1\n",
       "        /AE/RSU                      1\n",
       "        /Elections/                  1\n",
       "        /Holdings/Details/7346       1\n",
       "        /Holdings/Details/9369       1\n",
       "        /Home                        1\n",
       "        /Login                       1\n",
       "        /Logout                      1\n",
       "        /PageNotFound                1\n",
       "        /ServerError                 1\n",
       "500001  /Alerts                      4\n",
       "        /Contacts                    3\n",
       "        /Login/forgotpassword        3\n",
       "        /AE/Dashboard                2\n",
       "        /AE/                         1\n",
       "        /AE/RCA                      1\n",
       "        /AE/RSU                      1\n",
       "        /Elections/Details/8787      1\n",
       "        /Elections/Details/9089      1\n",
       "        /Holdings/Details/1368       1\n",
       "        /Holdings/Details/8671       1\n",
       "        /Home                        1\n",
       "        /Home/Events                 1\n",
       "                                    ..\n",
       "500198  /Activities/                 1\n",
       "        /Activities/Details/2419     1\n",
       "        /Activities/Details/398      1\n",
       "        /Activities/Details/5081     1\n",
       "        /Contacts                    1\n",
       "        /Elections/Details/2305      1\n",
       "        /Elections/Details/2455      1\n",
       "        /Elections/Details/6178      1\n",
       "        /Holdings/Details/7336       1\n",
       "        /Home                        1\n",
       "        /Logout                      1\n",
       "500199  /Home                        4\n",
       "        /AE/                         3\n",
       "        /Login                       3\n",
       "        /AE/Dashboard                2\n",
       "        /AE/RCA                      2\n",
       "        /Contacts                    2\n",
       "        /Home/Events                 2\n",
       "        /Logout                      2\n",
       "        /ServerError                 2\n",
       "        /AE/ESPP                     1\n",
       "        /AE/SAR                      1\n",
       "        /Activities/                 1\n",
       "        /Activities/Details/5120     1\n",
       "        /Activities/Details/6946     1\n",
       "        /Elections/Details/8825      1\n",
       "        /Help                        1\n",
       "        /Holdings/Details/2477       1\n",
       "        /Home/TickerPriceHistory/    1\n",
       "        /Login/forgotpassword        1\n",
       "Name: page, Length: 3317, dtype: int64"
      ]
     },
     "execution_count": 24,
     "metadata": {},
     "output_type": "execute_result"
    }
   ],
   "source": [
    "data.groupby(data.userid).page.value_counts()"
   ]
  },
  {
   "cell_type": "code",
   "execution_count": null,
   "metadata": {},
   "outputs": [],
   "source": []
  }
 ],
 "metadata": {
  "kernelspec": {
   "display_name": "Python 3",
   "language": "python",
   "name": "python3"
  },
  "language_info": {
   "codemirror_mode": {
    "name": "ipython",
    "version": 3
   },
   "file_extension": ".py",
   "mimetype": "text/x-python",
   "name": "python",
   "nbconvert_exporter": "python",
   "pygments_lexer": "ipython3",
   "version": "3.6.5"
  }
 },
 "nbformat": 4,
 "nbformat_minor": 2
}
