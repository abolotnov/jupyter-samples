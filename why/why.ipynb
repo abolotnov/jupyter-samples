{
 "cells": [
  {
   "cell_type": "markdown",
   "metadata": {},
   "source": [
    "# Scripts vs Notebooks\n",
    "\n",
    "We are going to create a simple script that parses a document and calculates some values based on its content and see how scripts vs functions evolve in typical scenarios and where each takes us. While the actual tasks solved are fairly artificial, they are a valid representation of what could happen in real-life scenarios.\n",
    "\n",
    "This is not really about using notebooks, it's about moving away from scripting to using IT echosystem in a IT-compliant and suggested way."
   ]
  },
  {
   "cell_type": "markdown",
   "metadata": {},
   "source": [
    "Let's build a script that calculates number of columns containig char `a`."
   ]
  },
  {
   "cell_type": "code",
   "execution_count": 25,
   "metadata": {},
   "outputs": [
    {
     "name": "stdout",
     "output_type": "stream",
     "text": [
      "41\n"
     ]
    }
   ],
   "source": [
    "import pandas\n",
    "data = pandas.read_csv('why/Sample1.csv')\n",
    "count = len(data.filter(like='a').columns)\n",
    "print(count)"
   ]
  },
  {
   "cell_type": "markdown",
   "metadata": {},
   "source": [
    "Another task requires that we perform the same calculation, but of columns containing `b`. To achieve this, we are going to copy and paste the script and change its code a little bit."
   ]
  },
  {
   "cell_type": "code",
   "execution_count": 26,
   "metadata": {},
   "outputs": [
    {
     "name": "stdout",
     "output_type": "stream",
     "text": [
      "7\n"
     ]
    }
   ],
   "source": [
    "import pandas\n",
    "data = pandas.read_csv('why/Sample1.csv')\n",
    "count = len(data.filter(like='b').columns)\n",
    "print(count)"
   ]
  },
  {
   "cell_type": "markdown",
   "metadata": {},
   "source": [
    "Now yet again for another task, we are going to copy and paste and update the script a little, too. At this point, we need to count ones that contain either `a` or `b`."
   ]
  },
  {
   "cell_type": "code",
   "execution_count": 27,
   "metadata": {},
   "outputs": [
    {
     "name": "stdout",
     "output_type": "stream",
     "text": [
      "43\n"
     ]
    }
   ],
   "source": [
    "import pandas\n",
    "data = pandas.read_csv('why/Sample1.csv')\n",
    "count = len(data.filter(regex='a|b').columns)\n",
    "print(count)"
   ]
  },
  {
   "cell_type": "markdown",
   "metadata": {},
   "source": [
    "At this point, we only changed 1 line of code the scripts 2 and 3. but the actual task (as in example) could be different between projects:\n",
    "\n",
    " - contains sequence\n",
    " - starts with a sequence\n",
    " - ends with a sequence\n",
    " - does not contain a sequence\n",
    " - has one of the elements in sequence list\n",
    " - other specific conditions\n",
    " \n",
    "It's not a problem for the top three scripts, since they didn't need this - further scripts can enhance this functionality. \n",
    "\n",
    "_But what if you had a program?_"
   ]
  },
  {
   "cell_type": "code",
   "execution_count": 36,
   "metadata": {},
   "outputs": [],
   "source": [
    "import pandas as pd\n",
    "class FeedProcessor:\n",
    "    \n",
    "    def __init__(self, file):\n",
    "        self.data = pd.read_csv(file)\n",
    "        \n",
    "    def CalcColumnsContainingString(self, s):\n",
    "        return len(self.data.filter(like=s).columns)"
   ]
  },
  {
   "cell_type": "markdown",
   "metadata": {},
   "source": [
    "With the program above, each of your three scripts will be two-liners:"
   ]
  },
  {
   "cell_type": "code",
   "execution_count": 40,
   "metadata": {},
   "outputs": [
    {
     "data": {
      "text/plain": [
       "41"
      ]
     },
     "execution_count": 40,
     "metadata": {},
     "output_type": "execute_result"
    }
   ],
   "source": [
    "feed = FeedProcessor('why/Sample1.csv')\n",
    "feed.CalcColumnsContainingString('a')"
   ]
  },
  {
   "cell_type": "markdown",
   "metadata": {},
   "source": [
    "Oh, the regex for the third script, we will add another function:"
   ]
  },
  {
   "cell_type": "code",
   "execution_count": 45,
   "metadata": {},
   "outputs": [],
   "source": [
    "import pandas as pd\n",
    "class FeedProcessor:\n",
    "    \n",
    "    def __init__(self, file):\n",
    "        self.data = pd.read_csv(file)\n",
    "        \n",
    "    def CalcColumnsContainingString(self, s):\n",
    "        return len(self.data.filter(like=s).columns)\n",
    "    \n",
    "    def CalcColumnsWithAnyOfTheChars(self, s):\n",
    "        return len(self.data.filter(regex='|'.join(s)).columns)"
   ]
  },
  {
   "cell_type": "markdown",
   "metadata": {},
   "source": [
    "This way, for the third script, we have a function that will calc all the columns containing any of the chars given:"
   ]
  },
  {
   "cell_type": "code",
   "execution_count": 48,
   "metadata": {},
   "outputs": [
    {
     "data": {
      "text/plain": [
       "43"
      ]
     },
     "execution_count": 48,
     "metadata": {},
     "output_type": "execute_result"
    }
   ],
   "source": [
    "feed = FeedProcessor('why/Sample1.csv')\n",
    "feed.CalcColumnsWithAnyOfTheChars('ab')"
   ]
  },
  {
   "cell_type": "markdown",
   "metadata": {},
   "source": [
    "Between two approaches, let's graph out the technical legacy:\n",
    "\n",
    "![img1](img1.png \"Scripts vs Program Approach\")"
   ]
  },
  {
   "cell_type": "markdown",
   "metadata": {},
   "source": [
    "# Script Problems\n",
    "\n",
    "Three scripts may not sound too bad, but in reality, over years, there will be many scripts that are muptiple copies of each other without any traceability into the parents/children of this. This traceability, from engineering perspective, is very important and fundamental to building quality software. Let's make things little tricky.\n",
    "\n",
    "## Defects\n",
    "\n",
    "What happens, when you realize that the code in the last script has a defect that is inherited from all the parent scripts that were copied over? Are you only fixing the most recent copy of the script or going to fix all the previous copies as well? What happens when you run scripts while you know there are defects?\n",
    "\n",
    "One of the problems (and there are many) with the code above is that `a!=A`. So the counts aren't including the `capitals`. There are muptiple strategies for fixing this but the buttom line is very simple: if someone wanted to fix the defect in muptiple relevant scripts, it's going to be a lot of searching and typing while with programming approach, it's all contained in one place. Once the function(s) are fixed, the notebooks using these remain unchanged.\n",
    "\n",
    "## Environmental dependencies\n",
    "\n",
    "Typically, scripts will run locally. This assumes that your local python installation matches the environmental expectations from the code your attempting to execute. Differences in installed packages, their version as well as python runtime version are introducing environmental specifics that may not be all the same across various local setups.\n",
    "\n",
    "Program approach or server-based execution (regardless if notebooks or not) does not have this problem.\n",
    "\n",
    "## Versioning\n",
    "\n",
    "At this point, the versioning implemented by copying scripts. Once the script has been copied, it's not always clear why and what the changes are. This also generates artifacts that would not potentially be used again in the future, ie useless. \n",
    "\n",
    "From IT perspective, source control systems are designed to do this. This allows working with a single physical copy of the file while retaining its change history at a desired level. It also supplies tools for comparing, merging and falling back to previous versions.\n",
    "\n",
    "Jupyter, for instance, provides means to view changes between checkpoints as well as git history:\n",
    "\n",
    "![jupyter diff](img2.png \"Jupyter checkpoint diff\")\n",
    "\n",
    "## Local Execution\n",
    "\n",
    "While this may not sound like a problem, this does not make a lot of practical sense to do. Most of work ivolving manipulating larger amounts of data are both CPU and memory intensive, typically to extends above typical desk PC setup. Besides, since most of the data is stored in SQL or phicals files, this generated a data proximity and network throuput problems, too.\n",
    "\n",
    "Running applications in server environment is safer, scalable and more predictable.\n",
    "\n",
    "## Quality Control\n",
    "\n",
    "Modern IT implies control over code generated by engineering population. In the scripts scenarios, there are barely any points of control enough to retain things IT-compliant. In the programming scenarios, all the functions generated by the engineering will undergo quality and security control before they are published to be consumed by users. \n",
    "\n",
    "## Traceability\n",
    "\n",
    "Traceability in programming is important for many reasons to build quality software. Typically the following chain is traced:\n",
    "\n",
    "![traceability](img3.png \"execution chain\")\n",
    "\n",
    "Typically, with scripting, most of the changes aren't documented and validated through a real-life experiment rather than industrial approaches. While this is acceptable in a format where the code chains functions and parametrizes them, it's not a suggested practice for creating functions.\n",
    "\n",
    "## Extendability\n",
    "\n",
    "Scripts are difficult to extend in controlled fasion. On programming side, functional or OOP programming assumes patterns for how functionality is extended without negative impact onto existing functionality. Re-writing scripts for extension purposes does not backtrack these updates to parent scripts, while rewriting functions (while maintaining their existing contracts) does without impacting any existing functionality."
   ]
  },
  {
   "cell_type": "markdown",
   "metadata": {},
   "source": [
    "# Programming Benefits\n",
    "\n",
    "These two may not exactly be very different (and it's very specific to how it's done), but since the assumption is that scripts are user-population generated and the users aren't software engineers and rather hands-on with programming, the differences are fairly large.\n",
    "\n",
    "What kind of benefits are collected with getting programming involved into the picture?\n",
    "\n",
    "## Cost of engineering\n",
    "\n",
    "Programming approaches exercised properly are much more cost effective compared to ad-hock scipting work done by educated userbase.\n",
    "\n",
    "## Quality of software\n",
    "\n",
    "Since the software created has to be compliant, its quality is generally much higher compared to scripts, too\n",
    "\n",
    "## Reusability of assets\n",
    "\n",
    "Scripts reusability pattern is copy-paste where programming reusability patterns are different:\n",
    "\n",
    " - Extention of existing functionality\n",
    " - Implementation higher-level functionality on top of existing functions (such as building services that expose functions)\n",
    " - Parametrization of functions\n",
    " \n",
    "## Room to focus on the right things\n",
    "\n",
    "I think the key benefit for the users is that that with proper IT support, they are able to focus on managing data instead of building tool to do this."
   ]
  },
  {
   "cell_type": "code",
   "execution_count": null,
   "metadata": {},
   "outputs": [],
   "source": []
  }
 ],
 "metadata": {
  "kernelspec": {
   "display_name": "Python 3",
   "language": "python",
   "name": "python3"
  },
  "language_info": {
   "codemirror_mode": {
    "name": "ipython",
    "version": 3
   },
   "file_extension": ".py",
   "mimetype": "text/x-python",
   "name": "python",
   "nbconvert_exporter": "python",
   "pygments_lexer": "ipython3",
   "version": "3.6.0"
  }
 },
 "nbformat": 4,
 "nbformat_minor": 2
}
