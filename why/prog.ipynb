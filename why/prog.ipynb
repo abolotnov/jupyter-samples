{
 "cells": [
  {
   "cell_type": "code",
   "execution_count": 98,
   "metadata": {},
   "outputs": [],
   "source": [
    "import pandas as pd\n",
    "import re\n",
    "import numpy as np\n",
    "from decimal import *\n",
    "\n",
    "class Feed:\n",
    "    \n",
    "    def __init__(self, file):\n",
    "        self.data = pd.read_csv(file)\n",
    "        print(\"Feed loaded & ready to go\")\n",
    "        \n",
    "    def termToMonths(self, col):\n",
    "        self.data[col] = self.data[col].apply(Tools.stringToMonths)\n",
    "        print(\"Completed Term to Months Column Rebuild\")\n",
    "        \n",
    "    def CalcFVModel1(self, col, installment='installment', term='term', int_rate='int_rate'):\n",
    "        self.data[col] = self.data.apply(lambda row: Tools.fvModel1(row[installment],row[term], row[int_rate]), axis=1)\n",
    "        print(\"Completed calculating FV\")\n",
    "    \n",
    "class Tools:\n",
    "    \n",
    "    def stringToMonths(value):\n",
    "        if re.match('^\\D*(\\d*)\\D*(months)\\D*$', value):\n",
    "            return re.sub('^\\D*(\\d*)\\D*(months)\\D*$', r'\\1', value)\n",
    "        if re.match('^\\D*(\\d*)\\D*(years)\\D*$', value):\n",
    "            years = re.sub('^\\D*(\\d*)\\D*(years)\\D*$', r'\\1', value)\n",
    "            return int(years)*12\n",
    "        return None\n",
    "    \n",
    "    def fvModel1(monthly_payment, term, interest):\n",
    "        interest = Decimal(interest.strip('%'))\n",
    "        return np.fv(rate=Decimal(interest/12), nper=Decimal(term), pmt=Decimal(-monthly_payment), pv=0)"
   ]
  },
  {
   "cell_type": "code",
   "execution_count": 99,
   "metadata": {},
   "outputs": [
    {
     "name": "stdout",
     "output_type": "stream",
     "text": [
      "Feed loaded & ready to go\n",
      "Completed Term to Months Column Rebuild\n",
      "Completed calculating FV\n"
     ]
    }
   ],
   "source": [
    "feed = Feed('Sample1.csv')\n",
    "feed.termToMonths('term')\n",
    "feed.CalcFVModel1('FV1')"
   ]
  },
  {
   "cell_type": "code",
   "execution_count": null,
   "metadata": {},
   "outputs": [],
   "source": []
  }
 ],
 "metadata": {
  "kernelspec": {
   "display_name": "Python 3",
   "language": "python",
   "name": "python3"
  },
  "language_info": {
   "codemirror_mode": {
    "name": "ipython",
    "version": 3
   },
   "file_extension": ".py",
   "mimetype": "text/x-python",
   "name": "python",
   "nbconvert_exporter": "python",
   "pygments_lexer": "ipython3",
   "version": "3.6.0"
  }
 },
 "nbformat": 4,
 "nbformat_minor": 2
}
