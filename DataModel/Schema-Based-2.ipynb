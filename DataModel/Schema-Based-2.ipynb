{
 "cells": [
  {
   "cell_type": "code",
   "execution_count": 1,
   "metadata": {},
   "outputs": [],
   "source": [
    "from beakerx import *\n",
    "beakerx.pandas_display_default()"
   ]
  },
  {
   "cell_type": "code",
   "execution_count": 11,
   "metadata": {},
   "outputs": [],
   "source": [
    "import pandas as pd\n",
    "from pandas_schema import Schema, Column\n",
    "from pandas_schema.validation import CanConvertValidation, InRangeValidation\n",
    "\n",
    "\n",
    "class ExecutionResult(object):\n",
    "\n",
    "    def __init__(self):\n",
    "        self.result = True\n",
    "        self.errors = []\n",
    "        self.message = None\n",
    "\n",
    "\n",
    "class Adapter(object):\n",
    "\n",
    "    @staticmethod\n",
    "    def validate_fields_map(model_fields: list, fields_map: dict):\n",
    "        v_result = ExecutionResult()\n",
    "        for c in model_fields:\n",
    "            if c not in fields_map.values():\n",
    "                v_result.errors.append('fields_map does not contain mapping to required field \"{}\"'.format(c))\n",
    "        if len(v_result.errors) > 0:\n",
    "            v_result.result = False\n",
    "        return v_result\n",
    "\n",
    "    def load(self):\n",
    "        raise NotImplementedError('Please implement load method in adapter implementation')\n",
    "\n",
    "\n",
    "class Model(object):\n",
    "\n",
    "    def __init__(self):\n",
    "        self.data = None\n",
    "        self.schema = None\n",
    "\n",
    "    @property\n",
    "    def required_model_fields(self):\n",
    "        fields = []\n",
    "        for c in self.schema.columns:\n",
    "            if not c.allow_empty:\n",
    "                fields.append(c.name)\n",
    "        return fields\n",
    "\n",
    "    def load_from_adapter(self, adapter: Adapter):\n",
    "        errors = adapter.load(self)\n",
    "        if errors is None:\n",
    "            print(\"Import done, no errors\")\n",
    "        else:\n",
    "            for e in errors:\n",
    "                print(e)\n",
    "\n",
    "\n",
    "class ExcelAdapter(Adapter):\n",
    "\n",
    "    def __init__(self, filename, fields_map):\n",
    "        self.filename = filename\n",
    "        self.fields_map = fields_map\n",
    "\n",
    "    def load(self, model: Model):\n",
    "\n",
    "        if Adapter.validate_fields_map(model.required_model_fields, self.fields_map).result:\n",
    "            model.data = pd.read_excel(self.filename)\n",
    "            model.data.rename(columns=self.fields_map, inplace=True)\n",
    "            unmapped_columns = set(model.data.columns.tolist()) - set(self.fields_map.values())\n",
    "            model.data.drop(unmapped_columns, axis=1, inplace=True)\n",
    "            return model.schema.validate(model.data)\n",
    "        else:\n",
    "            raise Exception(\"Fields validation failed, see logs\")\n",
    "\n",
    "\n",
    "class DogModel(Model):\n",
    "\n",
    "    def __init__(self):\n",
    "        super().__init__()\n",
    "        self.schema = Schema([\n",
    "            Column(name='name'),\n",
    "            Column(name='age', validations=[InRangeValidation(1, 15), CanConvertValidation(int)]),\n",
    "            Column(name='isAlive', validations=[CanConvertValidation(bool)])\n",
    "        ])"
   ]
  },
  {
   "cell_type": "code",
   "execution_count": 12,
   "metadata": {},
   "outputs": [
    {
     "name": "stdout",
     "output_type": "stream",
     "text": [
      "{row: 2, column: \"age\"}: \"0\" was not in the range [1, 15)\n"
     ]
    }
   ],
   "source": [
    "d = DogModel()\n",
    "mmp={'calledas': 'name', 'oldness': 'age', 'active?': 'isAlive'}\n",
    "adptr = ExcelAdapter(filename='dogs.xlsx', fields_map=mmp)\n",
    "d.load_from_adapter(adptr)"
   ]
  },
  {
   "cell_type": "code",
   "execution_count": 13,
   "metadata": {},
   "outputs": [
    {
     "data": {
      "text/html": [
       "<div>\n",
       "<style scoped>\n",
       "    .dataframe tbody tr th:only-of-type {\n",
       "        vertical-align: middle;\n",
       "    }\n",
       "\n",
       "    .dataframe tbody tr th {\n",
       "        vertical-align: top;\n",
       "    }\n",
       "\n",
       "    .dataframe thead th {\n",
       "        text-align: right;\n",
       "    }\n",
       "</style>\n",
       "<table border=\"1\" class=\"dataframe\">\n",
       "  <thead>\n",
       "    <tr style=\"text-align: right;\">\n",
       "      <th></th>\n",
       "      <th>name</th>\n",
       "      <th>age</th>\n",
       "      <th>isAlive</th>\n",
       "    </tr>\n",
       "  </thead>\n",
       "  <tbody>\n",
       "    <tr>\n",
       "      <th>0</th>\n",
       "      <td>Zeep</td>\n",
       "      <td>4</td>\n",
       "      <td>yes</td>\n",
       "    </tr>\n",
       "    <tr>\n",
       "      <th>1</th>\n",
       "      <td>Kiwi</td>\n",
       "      <td>7</td>\n",
       "      <td>yes</td>\n",
       "    </tr>\n",
       "    <tr>\n",
       "      <th>2</th>\n",
       "      <td>Nil</td>\n",
       "      <td>0</td>\n",
       "      <td>yes</td>\n",
       "    </tr>\n",
       "  </tbody>\n",
       "</table>\n",
       "</div>"
      ],
      "text/plain": [
       "   name  age isAlive\n",
       "0  Zeep    4     yes\n",
       "1  Kiwi    7     yes\n",
       "2   Nil    0     yes"
      ]
     },
     "execution_count": 13,
     "metadata": {},
     "output_type": "execute_result"
    }
   ],
   "source": [
    "d.data"
   ]
  },
  {
   "cell_type": "code",
   "execution_count": 14,
   "metadata": {},
   "outputs": [
    {
     "data": {
      "text/plain": [
       "['name', 'age', 'isAlive']"
      ]
     },
     "execution_count": 14,
     "metadata": {},
     "output_type": "execute_result"
    }
   ],
   "source": [
    "d.required_model_fields"
   ]
  },
  {
   "cell_type": "code",
   "execution_count": null,
   "metadata": {},
   "outputs": [],
   "source": []
  }
 ],
 "metadata": {
  "kernelspec": {
   "display_name": "Python 3",
   "language": "python",
   "name": "python3"
  },
  "language_info": {
   "codemirror_mode": {
    "name": "ipython",
    "version": 3
   },
   "file_extension": ".py",
   "mimetype": "text/x-python",
   "name": "python",
   "nbconvert_exporter": "python",
   "pygments_lexer": "ipython3",
   "version": "3.6.0"
  }
 },
 "nbformat": 4,
 "nbformat_minor": 2
}
