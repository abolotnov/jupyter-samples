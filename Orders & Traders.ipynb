{
 "cells": [
  {
   "cell_type": "markdown",
   "metadata": {},
   "source": [
    "# Trade Feeds Demoes (FX Spot Orders and Trades)\n",
    "#### I use real feeds from MOEX, they are over 250M+ and come packed, we have to unpack them first"
   ]
  },
  {
   "cell_type": "code",
   "execution_count": 1,
   "metadata": {},
   "outputs": [],
   "source": [
    "%%sh\n",
    "gunzip /opt/app/data/data/Trades/*.gz"
   ]
  },
  {
   "cell_type": "markdown",
   "metadata": {},
   "source": [
    "#### You should see these two files in the data/Trades folder now"
   ]
  },
  {
   "cell_type": "code",
   "execution_count": 2,
   "metadata": {},
   "outputs": [
    {
     "name": "stdout",
     "output_type": "stream",
     "text": [
      "total 260644\n",
      "drwxr-xr-x    1 root     root        4.0K Apr 13 16:42 .\n",
      "drwxr-xr-x    1 root     root        4.0K Apr 13 01:33 ..\n",
      "-rw-r--r--    1 root     root      253.2M Apr 13 16:42 TopofBook20130206.txt\n",
      "-rw-r--r--    1 root     root        1.3M Apr 13 16:42 TradeLog20130206.txt\n"
     ]
    }
   ],
   "source": [
    "%%sh\n",
    "ls -la -h /opt/app/data/data/Trades/"
   ]
  },
  {
   "cell_type": "markdown",
   "metadata": {},
   "source": [
    "#### Let's import the feed into a dataframe\n",
    "It's 6M+ records and will take some time"
   ]
  },
  {
   "cell_type": "code",
   "execution_count": 1,
   "metadata": {},
   "outputs": [
    {
     "name": "stdout",
     "output_type": "stream",
     "text": [
      "CPU times: user 20 ms, sys: 10 ms, total: 30 ms\n",
      "Wall time: 27.4 ms\n"
     ]
    }
   ],
   "source": [
    "import pandas as pd\n",
    "import numpy as np\n",
    "\n",
    "_orders = '/opt/app/data/data/Trades/TopofBook20130206.txt'\n",
    "_trades = '/opt/app/data/data/Trades/TradeLog20130206.txt'\n",
    "#%time orders = pd.read_csv(_orders, low_memory=False)\n",
    "%time trades = pd.read_csv(_trades, low_memory=False)"
   ]
  },
  {
   "cell_type": "markdown",
   "metadata": {},
   "source": [
    "#### Let's inspect the dataframe"
   ]
  },
  {
   "cell_type": "code",
   "execution_count": 2,
   "metadata": {},
   "outputs": [
    {
     "data": {
      "text/plain": [
       "(23266, 7)"
      ]
     },
     "execution_count": 2,
     "metadata": {},
     "output_type": "execute_result"
    }
   ],
   "source": [
    "trades.shape"
   ]
  },
  {
   "cell_type": "code",
   "execution_count": 3,
   "metadata": {},
   "outputs": [
    {
     "data": {
      "text/plain": [
       "TRADENO          int64\n",
       "SECCODE         object\n",
       "TIME             int64\n",
       "BUYORDERNO       int64\n",
       "SELLORDERNO      int64\n",
       "PRICE          float64\n",
       "VOLUME           int64\n",
       "dtype: object"
      ]
     },
     "execution_count": 3,
     "metadata": {},
     "output_type": "execute_result"
    }
   ],
   "source": [
    "trades.dtypes"
   ]
  },
  {
   "cell_type": "markdown",
   "metadata": {},
   "source": [
    "#### As you can see above, some of the column types are object and we need to convert them to ones that will allow better manipulation"
   ]
  },
  {
   "cell_type": "code",
   "execution_count": 4,
   "metadata": {},
   "outputs": [
    {
     "name": "stdout",
     "output_type": "stream",
     "text": [
      "CPU times: user 110 ms, sys: 0 ns, total: 110 ms\n",
      "Wall time: 110 ms\n"
     ]
    }
   ],
   "source": [
    "%time trades.TIME = pd.to_datetime(trades.TIME, format='%H%M%S%f')\n",
    "#%time orders.TIME = pd.to_datetime(orders.TIME, format='%H%M%S%f')"
   ]
  },
  {
   "cell_type": "markdown",
   "metadata": {},
   "source": [
    "#### We converted the datetime column to proper format, let's see what we got:"
   ]
  },
  {
   "cell_type": "code",
   "execution_count": 5,
   "metadata": {},
   "outputs": [
    {
     "name": "stdout",
     "output_type": "stream",
     "text": [
      "TRADENO                 int64\n",
      "SECCODE                object\n",
      "TIME           datetime64[ns]\n",
      "BUYORDERNO              int64\n",
      "SELLORDERNO             int64\n",
      "PRICE                 float64\n",
      "VOLUME                  int64\n",
      "dtype: object\n"
     ]
    }
   ],
   "source": [
    "print(trades.dtypes)"
   ]
  },
  {
   "cell_type": "code",
   "execution_count": 6,
   "metadata": {},
   "outputs": [
    {
     "data": {
      "text/html": [
       "<div>\n",
       "<style scoped>\n",
       "    .dataframe tbody tr th:only-of-type {\n",
       "        vertical-align: middle;\n",
       "    }\n",
       "\n",
       "    .dataframe tbody tr th {\n",
       "        vertical-align: top;\n",
       "    }\n",
       "\n",
       "    .dataframe thead th {\n",
       "        text-align: right;\n",
       "    }\n",
       "</style>\n",
       "<table border=\"1\" class=\"dataframe\">\n",
       "  <thead>\n",
       "    <tr style=\"text-align: right;\">\n",
       "      <th></th>\n",
       "      <th>TRADENO</th>\n",
       "      <th>SECCODE</th>\n",
       "      <th>TIME</th>\n",
       "      <th>BUYORDERNO</th>\n",
       "      <th>SELLORDERNO</th>\n",
       "      <th>PRICE</th>\n",
       "      <th>VOLUME</th>\n",
       "    </tr>\n",
       "  </thead>\n",
       "  <tbody>\n",
       "    <tr>\n",
       "      <th>0</th>\n",
       "      <td>76139178</td>\n",
       "      <td>USD000UTSTOM</td>\n",
       "      <td>1900-01-01 10:00:00.000</td>\n",
       "      <td>79</td>\n",
       "      <td>4</td>\n",
       "      <td>30.0490</td>\n",
       "      <td>1000</td>\n",
       "    </tr>\n",
       "    <tr>\n",
       "      <th>1</th>\n",
       "      <td>76139179</td>\n",
       "      <td>USD000000TOD</td>\n",
       "      <td>1900-01-01 10:00:02.900</td>\n",
       "      <td>13453</td>\n",
       "      <td>3846</td>\n",
       "      <td>29.9990</td>\n",
       "      <td>200000</td>\n",
       "    </tr>\n",
       "    <tr>\n",
       "      <th>2</th>\n",
       "      <td>76139180</td>\n",
       "      <td>USD000000TOD</td>\n",
       "      <td>1900-01-01 10:00:02.900</td>\n",
       "      <td>13453</td>\n",
       "      <td>13448</td>\n",
       "      <td>29.9990</td>\n",
       "      <td>100000</td>\n",
       "    </tr>\n",
       "    <tr>\n",
       "      <th>3</th>\n",
       "      <td>76139181</td>\n",
       "      <td>USD000000TOD</td>\n",
       "      <td>1900-01-01 10:00:02.900</td>\n",
       "      <td>13453</td>\n",
       "      <td>13486</td>\n",
       "      <td>29.9995</td>\n",
       "      <td>150000</td>\n",
       "    </tr>\n",
       "    <tr>\n",
       "      <th>4</th>\n",
       "      <td>76139182</td>\n",
       "      <td>USD000000TOD</td>\n",
       "      <td>1900-01-01 10:00:03.200</td>\n",
       "      <td>15269</td>\n",
       "      <td>15271</td>\n",
       "      <td>29.9900</td>\n",
       "      <td>126000</td>\n",
       "    </tr>\n",
       "  </tbody>\n",
       "</table>\n",
       "</div>"
      ],
      "text/plain": [
       "    TRADENO       SECCODE                    TIME  BUYORDERNO  SELLORDERNO  \\\n",
       "0  76139178  USD000UTSTOM 1900-01-01 10:00:00.000          79            4   \n",
       "1  76139179  USD000000TOD 1900-01-01 10:00:02.900       13453         3846   \n",
       "2  76139180  USD000000TOD 1900-01-01 10:00:02.900       13453        13448   \n",
       "3  76139181  USD000000TOD 1900-01-01 10:00:02.900       13453        13486   \n",
       "4  76139182  USD000000TOD 1900-01-01 10:00:03.200       15269        15271   \n",
       "\n",
       "     PRICE  VOLUME  \n",
       "0  30.0490    1000  \n",
       "1  29.9990  200000  \n",
       "2  29.9990  100000  \n",
       "3  29.9995  150000  \n",
       "4  29.9900  126000  "
      ]
     },
     "execution_count": 6,
     "metadata": {},
     "output_type": "execute_result"
    }
   ],
   "source": [
    "trades.head(5)"
   ]
  },
  {
   "cell_type": "markdown",
   "metadata": {},
   "source": [
    "#### Let's see instruments that were traded in this session"
   ]
  },
  {
   "cell_type": "code",
   "execution_count": 7,
   "metadata": {},
   "outputs": [
    {
     "name": "stdout",
     "output_type": "stream",
     "text": [
      "CPU times: user 0 ns, sys: 0 ns, total: 0 ns\n",
      "Wall time: 4.69 ms\n"
     ]
    },
    {
     "data": {
      "text/plain": [
       "array(['USD000UTSTOM', 'USD000000TOD', 'EUR_RUB__TOM', 'EUR_RUB__TOD',\n",
       "       'EUR000TODTOM', 'USD000TODTOM', 'CNY000000TOD', 'EURUSDTODTOM',\n",
       "       'EURUSD000TOD', 'EURUSD000TOM', 'USDRUB_TOM1W', 'BKTRUB000TOM',\n",
       "       'USDRUB_TOM1D', 'USDRUB_TOM1M'], dtype=object)"
      ]
     },
     "execution_count": 7,
     "metadata": {},
     "output_type": "execute_result"
    }
   ],
   "source": [
    "%time trades.SECCODE.unique()"
   ]
  },
  {
   "cell_type": "markdown",
   "metadata": {},
   "source": [
    "#### Let's count number of orders per instrument"
   ]
  },
  {
   "cell_type": "code",
   "execution_count": 8,
   "metadata": {},
   "outputs": [
    {
     "name": "stdout",
     "output_type": "stream",
     "text": [
      "CPU times: user 10 ms, sys: 0 ns, total: 10 ms\n",
      "Wall time: 10.8 ms\n"
     ]
    },
    {
     "data": {
      "text/plain": [
       "USD000UTSTOM    15530\n",
       "USD000000TOD     4081\n",
       "EUR_RUB__TOD     1492\n",
       "EUR_RUB__TOM     1037\n",
       "USD000TODTOM      585\n",
       "EUR000TODTOM      383\n",
       "EURUSD000TOM       68\n",
       "CNY000000TOD       44\n",
       "EURUSDTODTOM       30\n",
       "EURUSD000TOD       11\n",
       "BKTRUB000TOM        2\n",
       "USDRUB_TOM1W        1\n",
       "USDRUB_TOM1D        1\n",
       "USDRUB_TOM1M        1\n",
       "Name: SECCODE, dtype: int64"
      ]
     },
     "execution_count": 8,
     "metadata": {},
     "output_type": "execute_result"
    }
   ],
   "source": [
    "%time trades.SECCODE.value_counts()"
   ]
  },
  {
   "cell_type": "markdown",
   "metadata": {},
   "source": [
    "#### Let's query for a particular instrument put orders"
   ]
  },
  {
   "cell_type": "code",
   "execution_count": 9,
   "metadata": {},
   "outputs": [
    {
     "name": "stdout",
     "output_type": "stream",
     "text": [
      "CPU times: user 10 ms, sys: 0 ns, total: 10 ms\n",
      "Wall time: 22.6 ms\n"
     ]
    },
    {
     "data": {
      "text/html": [
       "<div>\n",
       "<style scoped>\n",
       "    .dataframe tbody tr th:only-of-type {\n",
       "        vertical-align: middle;\n",
       "    }\n",
       "\n",
       "    .dataframe tbody tr th {\n",
       "        vertical-align: top;\n",
       "    }\n",
       "\n",
       "    .dataframe thead th {\n",
       "        text-align: right;\n",
       "    }\n",
       "</style>\n",
       "<table border=\"1\" class=\"dataframe\">\n",
       "  <thead>\n",
       "    <tr style=\"text-align: right;\">\n",
       "      <th></th>\n",
       "      <th>TRADENO</th>\n",
       "      <th>SECCODE</th>\n",
       "      <th>TIME</th>\n",
       "      <th>BUYORDERNO</th>\n",
       "      <th>SELLORDERNO</th>\n",
       "      <th>PRICE</th>\n",
       "      <th>VOLUME</th>\n",
       "    </tr>\n",
       "  </thead>\n",
       "  <tbody>\n",
       "    <tr>\n",
       "      <th>34</th>\n",
       "      <td>76139220</td>\n",
       "      <td>USD000UTSTOM</td>\n",
       "      <td>1900-01-01 10:01:00.400</td>\n",
       "      <td>34775</td>\n",
       "      <td>34714</td>\n",
       "      <td>29.9895</td>\n",
       "      <td>150000</td>\n",
       "    </tr>\n",
       "    <tr>\n",
       "      <th>36</th>\n",
       "      <td>76139222</td>\n",
       "      <td>USD000UTSTOM</td>\n",
       "      <td>1900-01-01 10:01:00.400</td>\n",
       "      <td>34775</td>\n",
       "      <td>34705</td>\n",
       "      <td>29.9900</td>\n",
       "      <td>488000</td>\n",
       "    </tr>\n",
       "    <tr>\n",
       "      <th>39</th>\n",
       "      <td>76139225</td>\n",
       "      <td>USD000UTSTOM</td>\n",
       "      <td>1900-01-01 10:01:00.500</td>\n",
       "      <td>21540</td>\n",
       "      <td>36096</td>\n",
       "      <td>29.9830</td>\n",
       "      <td>350000</td>\n",
       "    </tr>\n",
       "    <tr>\n",
       "      <th>47</th>\n",
       "      <td>76139235</td>\n",
       "      <td>USD000UTSTOM</td>\n",
       "      <td>1900-01-01 10:01:01.600</td>\n",
       "      <td>40706</td>\n",
       "      <td>40703</td>\n",
       "      <td>29.9795</td>\n",
       "      <td>135000</td>\n",
       "    </tr>\n",
       "    <tr>\n",
       "      <th>52</th>\n",
       "      <td>76139240</td>\n",
       "      <td>USD000UTSTOM</td>\n",
       "      <td>1900-01-01 10:01:01.700</td>\n",
       "      <td>40910</td>\n",
       "      <td>40703</td>\n",
       "      <td>29.9795</td>\n",
       "      <td>365000</td>\n",
       "    </tr>\n",
       "  </tbody>\n",
       "</table>\n",
       "</div>"
      ],
      "text/plain": [
       "     TRADENO       SECCODE                    TIME  BUYORDERNO  SELLORDERNO  \\\n",
       "34  76139220  USD000UTSTOM 1900-01-01 10:01:00.400       34775        34714   \n",
       "36  76139222  USD000UTSTOM 1900-01-01 10:01:00.400       34775        34705   \n",
       "39  76139225  USD000UTSTOM 1900-01-01 10:01:00.500       21540        36096   \n",
       "47  76139235  USD000UTSTOM 1900-01-01 10:01:01.600       40706        40703   \n",
       "52  76139240  USD000UTSTOM 1900-01-01 10:01:01.700       40910        40703   \n",
       "\n",
       "      PRICE  VOLUME  \n",
       "34  29.9895  150000  \n",
       "36  29.9900  488000  \n",
       "39  29.9830  350000  \n",
       "47  29.9795  135000  \n",
       "52  29.9795  365000  "
      ]
     },
     "execution_count": 9,
     "metadata": {},
     "output_type": "execute_result"
    }
   ],
   "source": [
    "#%time orders[(orders.SECCODE=='USD000UTSTOM') & (orders.BUYSELL=='S')].head(5)\n",
    "%time trades[(trades.SECCODE=='USD000UTSTOM') & (trades.VOLUME > 100000)].head(5)"
   ]
  },
  {
   "cell_type": "markdown",
   "metadata": {},
   "source": [
    "#### Let's plot a little"
   ]
  },
  {
   "cell_type": "code",
   "execution_count": 10,
   "metadata": {},
   "outputs": [
    {
     "data": {
      "text/html": [
       "\n",
       "    <div class=\"bk-root\">\n",
       "        <a href=\"https://bokeh.pydata.org\" target=\"_blank\" class=\"bk-logo bk-logo-small bk-logo-notebook\"></a>\n",
       "        <span id=\"9717706f-fad4-40c7-bf47-7bd7237849a7\">Loading BokehJS ...</span>\n",
       "    </div>"
      ]
     },
     "metadata": {},
     "output_type": "display_data"
    },
    {
     "data": {
      "application/javascript": [
       "\n",
       "(function(root) {\n",
       "  function now() {\n",
       "    return new Date();\n",
       "  }\n",
       "\n",
       "  var force = true;\n",
       "\n",
       "  if (typeof (root._bokeh_onload_callbacks) === \"undefined\" || force === true) {\n",
       "    root._bokeh_onload_callbacks = [];\n",
       "    root._bokeh_is_loading = undefined;\n",
       "  }\n",
       "\n",
       "  var JS_MIME_TYPE = 'application/javascript';\n",
       "  var HTML_MIME_TYPE = 'text/html';\n",
       "  var EXEC_MIME_TYPE = 'application/vnd.bokehjs_exec.v0+json';\n",
       "  var CLASS_NAME = 'output_bokeh rendered_html';\n",
       "\n",
       "  /**\n",
       "   * Render data to the DOM node\n",
       "   */\n",
       "  function render(props, node) {\n",
       "    var script = document.createElement(\"script\");\n",
       "    node.appendChild(script);\n",
       "  }\n",
       "\n",
       "  /**\n",
       "   * Handle when an output is cleared or removed\n",
       "   */\n",
       "  function handleClearOutput(event, handle) {\n",
       "    var cell = handle.cell;\n",
       "\n",
       "    var id = cell.output_area._bokeh_element_id;\n",
       "    var server_id = cell.output_area._bokeh_server_id;\n",
       "    // Clean up Bokeh references\n",
       "    if (id !== undefined) {\n",
       "      Bokeh.index[id].model.document.clear();\n",
       "      delete Bokeh.index[id];\n",
       "    }\n",
       "\n",
       "    if (server_id !== undefined) {\n",
       "      // Clean up Bokeh references\n",
       "      var cmd = \"from bokeh.io.state import curstate; print(curstate().uuid_to_server['\" + server_id + \"'].get_sessions()[0].document.roots[0]._id)\";\n",
       "      cell.notebook.kernel.execute(cmd, {\n",
       "        iopub: {\n",
       "          output: function(msg) {\n",
       "            var element_id = msg.content.text.trim();\n",
       "            Bokeh.index[element_id].model.document.clear();\n",
       "            delete Bokeh.index[element_id];\n",
       "          }\n",
       "        }\n",
       "      });\n",
       "      // Destroy server and session\n",
       "      var cmd = \"import bokeh.io.notebook as ion; ion.destroy_server('\" + server_id + \"')\";\n",
       "      cell.notebook.kernel.execute(cmd);\n",
       "    }\n",
       "  }\n",
       "\n",
       "  /**\n",
       "   * Handle when a new output is added\n",
       "   */\n",
       "  function handleAddOutput(event, handle) {\n",
       "    var output_area = handle.output_area;\n",
       "    var output = handle.output;\n",
       "\n",
       "    // limit handleAddOutput to display_data with EXEC_MIME_TYPE content only\n",
       "    if ((output.output_type != \"display_data\") || (!output.data.hasOwnProperty(EXEC_MIME_TYPE))) {\n",
       "      return\n",
       "    }\n",
       "\n",
       "    var toinsert = output_area.element.find(\".\" + CLASS_NAME.split(' ')[0]);\n",
       "\n",
       "    if (output.metadata[EXEC_MIME_TYPE][\"id\"] !== undefined) {\n",
       "      toinsert[toinsert.length - 1].firstChild.textContent = output.data[JS_MIME_TYPE];\n",
       "      // store reference to embed id on output_area\n",
       "      output_area._bokeh_element_id = output.metadata[EXEC_MIME_TYPE][\"id\"];\n",
       "    }\n",
       "    if (output.metadata[EXEC_MIME_TYPE][\"server_id\"] !== undefined) {\n",
       "      var bk_div = document.createElement(\"div\");\n",
       "      bk_div.innerHTML = output.data[HTML_MIME_TYPE];\n",
       "      var script_attrs = bk_div.children[0].attributes;\n",
       "      for (var i = 0; i < script_attrs.length; i++) {\n",
       "        toinsert[toinsert.length - 1].firstChild.setAttribute(script_attrs[i].name, script_attrs[i].value);\n",
       "      }\n",
       "      // store reference to server id on output_area\n",
       "      output_area._bokeh_server_id = output.metadata[EXEC_MIME_TYPE][\"server_id\"];\n",
       "    }\n",
       "  }\n",
       "\n",
       "  function register_renderer(events, OutputArea) {\n",
       "\n",
       "    function append_mime(data, metadata, element) {\n",
       "      // create a DOM node to render to\n",
       "      var toinsert = this.create_output_subarea(\n",
       "        metadata,\n",
       "        CLASS_NAME,\n",
       "        EXEC_MIME_TYPE\n",
       "      );\n",
       "      this.keyboard_manager.register_events(toinsert);\n",
       "      // Render to node\n",
       "      var props = {data: data, metadata: metadata[EXEC_MIME_TYPE]};\n",
       "      render(props, toinsert[toinsert.length - 1]);\n",
       "      element.append(toinsert);\n",
       "      return toinsert\n",
       "    }\n",
       "\n",
       "    /* Handle when an output is cleared or removed */\n",
       "    events.on('clear_output.CodeCell', handleClearOutput);\n",
       "    events.on('delete.Cell', handleClearOutput);\n",
       "\n",
       "    /* Handle when a new output is added */\n",
       "    events.on('output_added.OutputArea', handleAddOutput);\n",
       "\n",
       "    /**\n",
       "     * Register the mime type and append_mime function with output_area\n",
       "     */\n",
       "    OutputArea.prototype.register_mime_type(EXEC_MIME_TYPE, append_mime, {\n",
       "      /* Is output safe? */\n",
       "      safe: true,\n",
       "      /* Index of renderer in `output_area.display_order` */\n",
       "      index: 0\n",
       "    });\n",
       "  }\n",
       "\n",
       "  // register the mime type if in Jupyter Notebook environment and previously unregistered\n",
       "  if (root.Jupyter !== undefined) {\n",
       "    var events = require('base/js/events');\n",
       "    var OutputArea = require('notebook/js/outputarea').OutputArea;\n",
       "\n",
       "    if (OutputArea.prototype.mime_types().indexOf(EXEC_MIME_TYPE) == -1) {\n",
       "      register_renderer(events, OutputArea);\n",
       "    }\n",
       "  }\n",
       "\n",
       "  \n",
       "  if (typeof (root._bokeh_timeout) === \"undefined\" || force === true) {\n",
       "    root._bokeh_timeout = Date.now() + 5000;\n",
       "    root._bokeh_failed_load = false;\n",
       "  }\n",
       "\n",
       "  var NB_LOAD_WARNING = {'data': {'text/html':\n",
       "     \"<div style='background-color: #fdd'>\\n\"+\n",
       "     \"<p>\\n\"+\n",
       "     \"BokehJS does not appear to have successfully loaded. If loading BokehJS from CDN, this \\n\"+\n",
       "     \"may be due to a slow or bad network connection. Possible fixes:\\n\"+\n",
       "     \"</p>\\n\"+\n",
       "     \"<ul>\\n\"+\n",
       "     \"<li>re-rerun `output_notebook()` to attempt to load from CDN again, or</li>\\n\"+\n",
       "     \"<li>use INLINE resources instead, as so:</li>\\n\"+\n",
       "     \"</ul>\\n\"+\n",
       "     \"<code>\\n\"+\n",
       "     \"from bokeh.resources import INLINE\\n\"+\n",
       "     \"output_notebook(resources=INLINE)\\n\"+\n",
       "     \"</code>\\n\"+\n",
       "     \"</div>\"}};\n",
       "\n",
       "  function display_loaded() {\n",
       "    var el = document.getElementById(\"9717706f-fad4-40c7-bf47-7bd7237849a7\");\n",
       "    if (el != null) {\n",
       "      el.textContent = \"BokehJS is loading...\";\n",
       "    }\n",
       "    if (root.Bokeh !== undefined) {\n",
       "      if (el != null) {\n",
       "        el.textContent = \"BokehJS \" + root.Bokeh.version + \" successfully loaded.\";\n",
       "      }\n",
       "    } else if (Date.now() < root._bokeh_timeout) {\n",
       "      setTimeout(display_loaded, 100)\n",
       "    }\n",
       "  }\n",
       "\n",
       "\n",
       "  function run_callbacks() {\n",
       "    try {\n",
       "      root._bokeh_onload_callbacks.forEach(function(callback) { callback() });\n",
       "    }\n",
       "    finally {\n",
       "      delete root._bokeh_onload_callbacks\n",
       "    }\n",
       "    console.info(\"Bokeh: all callbacks have finished\");\n",
       "  }\n",
       "\n",
       "  function load_libs(js_urls, callback) {\n",
       "    root._bokeh_onload_callbacks.push(callback);\n",
       "    if (root._bokeh_is_loading > 0) {\n",
       "      console.log(\"Bokeh: BokehJS is being loaded, scheduling callback at\", now());\n",
       "      return null;\n",
       "    }\n",
       "    if (js_urls == null || js_urls.length === 0) {\n",
       "      run_callbacks();\n",
       "      return null;\n",
       "    }\n",
       "    console.log(\"Bokeh: BokehJS not loaded, scheduling load and callback at\", now());\n",
       "    root._bokeh_is_loading = js_urls.length;\n",
       "    for (var i = 0; i < js_urls.length; i++) {\n",
       "      var url = js_urls[i];\n",
       "      var s = document.createElement('script');\n",
       "      s.src = url;\n",
       "      s.async = false;\n",
       "      s.onreadystatechange = s.onload = function() {\n",
       "        root._bokeh_is_loading--;\n",
       "        if (root._bokeh_is_loading === 0) {\n",
       "          console.log(\"Bokeh: all BokehJS libraries loaded\");\n",
       "          run_callbacks()\n",
       "        }\n",
       "      };\n",
       "      s.onerror = function() {\n",
       "        console.warn(\"failed to load library \" + url);\n",
       "      };\n",
       "      console.log(\"Bokeh: injecting script tag for BokehJS library: \", url);\n",
       "      document.getElementsByTagName(\"head\")[0].appendChild(s);\n",
       "    }\n",
       "  };var element = document.getElementById(\"9717706f-fad4-40c7-bf47-7bd7237849a7\");\n",
       "  if (element == null) {\n",
       "    console.log(\"Bokeh: ERROR: autoload.js configured with elementid '9717706f-fad4-40c7-bf47-7bd7237849a7' but no matching script tag was found. \")\n",
       "    return false;\n",
       "  }\n",
       "\n",
       "  var js_urls = [\"https://cdn.pydata.org/bokeh/release/bokeh-0.12.15.min.js\", \"https://cdn.pydata.org/bokeh/release/bokeh-widgets-0.12.15.min.js\", \"https://cdn.pydata.org/bokeh/release/bokeh-tables-0.12.15.min.js\", \"https://cdn.pydata.org/bokeh/release/bokeh-gl-0.12.15.min.js\"];\n",
       "\n",
       "  var inline_js = [\n",
       "    function(Bokeh) {\n",
       "      Bokeh.set_log_level(\"info\");\n",
       "    },\n",
       "    \n",
       "    function(Bokeh) {\n",
       "      \n",
       "    },\n",
       "    function(Bokeh) {\n",
       "      console.log(\"Bokeh: injecting CSS: https://cdn.pydata.org/bokeh/release/bokeh-0.12.15.min.css\");\n",
       "      Bokeh.embed.inject_css(\"https://cdn.pydata.org/bokeh/release/bokeh-0.12.15.min.css\");\n",
       "      console.log(\"Bokeh: injecting CSS: https://cdn.pydata.org/bokeh/release/bokeh-widgets-0.12.15.min.css\");\n",
       "      Bokeh.embed.inject_css(\"https://cdn.pydata.org/bokeh/release/bokeh-widgets-0.12.15.min.css\");\n",
       "      console.log(\"Bokeh: injecting CSS: https://cdn.pydata.org/bokeh/release/bokeh-tables-0.12.15.min.css\");\n",
       "      Bokeh.embed.inject_css(\"https://cdn.pydata.org/bokeh/release/bokeh-tables-0.12.15.min.css\");\n",
       "    }\n",
       "  ];\n",
       "\n",
       "  function run_inline_js() {\n",
       "    \n",
       "    if ((root.Bokeh !== undefined) || (force === true)) {\n",
       "      for (var i = 0; i < inline_js.length; i++) {\n",
       "        inline_js[i].call(root, root.Bokeh);\n",
       "      }if (force === true) {\n",
       "        display_loaded();\n",
       "      }} else if (Date.now() < root._bokeh_timeout) {\n",
       "      setTimeout(run_inline_js, 100);\n",
       "    } else if (!root._bokeh_failed_load) {\n",
       "      console.log(\"Bokeh: BokehJS failed to load within specified timeout.\");\n",
       "      root._bokeh_failed_load = true;\n",
       "    } else if (force !== true) {\n",
       "      var cell = $(document.getElementById(\"9717706f-fad4-40c7-bf47-7bd7237849a7\")).parents('.cell').data().cell;\n",
       "      cell.output_area.append_execute_result(NB_LOAD_WARNING)\n",
       "    }\n",
       "\n",
       "  }\n",
       "\n",
       "  if (root._bokeh_is_loading === 0) {\n",
       "    console.log(\"Bokeh: BokehJS loaded, going straight to plotting\");\n",
       "    run_inline_js();\n",
       "  } else {\n",
       "    load_libs(js_urls, function() {\n",
       "      console.log(\"Bokeh: BokehJS plotting callback run at\", now());\n",
       "      run_inline_js();\n",
       "    });\n",
       "  }\n",
       "}(window));"
      ],
      "application/vnd.bokehjs_load.v0+json": "\n(function(root) {\n  function now() {\n    return new Date();\n  }\n\n  var force = true;\n\n  if (typeof (root._bokeh_onload_callbacks) === \"undefined\" || force === true) {\n    root._bokeh_onload_callbacks = [];\n    root._bokeh_is_loading = undefined;\n  }\n\n  \n\n  \n  if (typeof (root._bokeh_timeout) === \"undefined\" || force === true) {\n    root._bokeh_timeout = Date.now() + 5000;\n    root._bokeh_failed_load = false;\n  }\n\n  var NB_LOAD_WARNING = {'data': {'text/html':\n     \"<div style='background-color: #fdd'>\\n\"+\n     \"<p>\\n\"+\n     \"BokehJS does not appear to have successfully loaded. If loading BokehJS from CDN, this \\n\"+\n     \"may be due to a slow or bad network connection. Possible fixes:\\n\"+\n     \"</p>\\n\"+\n     \"<ul>\\n\"+\n     \"<li>re-rerun `output_notebook()` to attempt to load from CDN again, or</li>\\n\"+\n     \"<li>use INLINE resources instead, as so:</li>\\n\"+\n     \"</ul>\\n\"+\n     \"<code>\\n\"+\n     \"from bokeh.resources import INLINE\\n\"+\n     \"output_notebook(resources=INLINE)\\n\"+\n     \"</code>\\n\"+\n     \"</div>\"}};\n\n  function display_loaded() {\n    var el = document.getElementById(\"9717706f-fad4-40c7-bf47-7bd7237849a7\");\n    if (el != null) {\n      el.textContent = \"BokehJS is loading...\";\n    }\n    if (root.Bokeh !== undefined) {\n      if (el != null) {\n        el.textContent = \"BokehJS \" + root.Bokeh.version + \" successfully loaded.\";\n      }\n    } else if (Date.now() < root._bokeh_timeout) {\n      setTimeout(display_loaded, 100)\n    }\n  }\n\n\n  function run_callbacks() {\n    try {\n      root._bokeh_onload_callbacks.forEach(function(callback) { callback() });\n    }\n    finally {\n      delete root._bokeh_onload_callbacks\n    }\n    console.info(\"Bokeh: all callbacks have finished\");\n  }\n\n  function load_libs(js_urls, callback) {\n    root._bokeh_onload_callbacks.push(callback);\n    if (root._bokeh_is_loading > 0) {\n      console.log(\"Bokeh: BokehJS is being loaded, scheduling callback at\", now());\n      return null;\n    }\n    if (js_urls == null || js_urls.length === 0) {\n      run_callbacks();\n      return null;\n    }\n    console.log(\"Bokeh: BokehJS not loaded, scheduling load and callback at\", now());\n    root._bokeh_is_loading = js_urls.length;\n    for (var i = 0; i < js_urls.length; i++) {\n      var url = js_urls[i];\n      var s = document.createElement('script');\n      s.src = url;\n      s.async = false;\n      s.onreadystatechange = s.onload = function() {\n        root._bokeh_is_loading--;\n        if (root._bokeh_is_loading === 0) {\n          console.log(\"Bokeh: all BokehJS libraries loaded\");\n          run_callbacks()\n        }\n      };\n      s.onerror = function() {\n        console.warn(\"failed to load library \" + url);\n      };\n      console.log(\"Bokeh: injecting script tag for BokehJS library: \", url);\n      document.getElementsByTagName(\"head\")[0].appendChild(s);\n    }\n  };var element = document.getElementById(\"9717706f-fad4-40c7-bf47-7bd7237849a7\");\n  if (element == null) {\n    console.log(\"Bokeh: ERROR: autoload.js configured with elementid '9717706f-fad4-40c7-bf47-7bd7237849a7' but no matching script tag was found. \")\n    return false;\n  }\n\n  var js_urls = [\"https://cdn.pydata.org/bokeh/release/bokeh-0.12.15.min.js\", \"https://cdn.pydata.org/bokeh/release/bokeh-widgets-0.12.15.min.js\", \"https://cdn.pydata.org/bokeh/release/bokeh-tables-0.12.15.min.js\", \"https://cdn.pydata.org/bokeh/release/bokeh-gl-0.12.15.min.js\"];\n\n  var inline_js = [\n    function(Bokeh) {\n      Bokeh.set_log_level(\"info\");\n    },\n    \n    function(Bokeh) {\n      \n    },\n    function(Bokeh) {\n      console.log(\"Bokeh: injecting CSS: https://cdn.pydata.org/bokeh/release/bokeh-0.12.15.min.css\");\n      Bokeh.embed.inject_css(\"https://cdn.pydata.org/bokeh/release/bokeh-0.12.15.min.css\");\n      console.log(\"Bokeh: injecting CSS: https://cdn.pydata.org/bokeh/release/bokeh-widgets-0.12.15.min.css\");\n      Bokeh.embed.inject_css(\"https://cdn.pydata.org/bokeh/release/bokeh-widgets-0.12.15.min.css\");\n      console.log(\"Bokeh: injecting CSS: https://cdn.pydata.org/bokeh/release/bokeh-tables-0.12.15.min.css\");\n      Bokeh.embed.inject_css(\"https://cdn.pydata.org/bokeh/release/bokeh-tables-0.12.15.min.css\");\n    }\n  ];\n\n  function run_inline_js() {\n    \n    if ((root.Bokeh !== undefined) || (force === true)) {\n      for (var i = 0; i < inline_js.length; i++) {\n        inline_js[i].call(root, root.Bokeh);\n      }if (force === true) {\n        display_loaded();\n      }} else if (Date.now() < root._bokeh_timeout) {\n      setTimeout(run_inline_js, 100);\n    } else if (!root._bokeh_failed_load) {\n      console.log(\"Bokeh: BokehJS failed to load within specified timeout.\");\n      root._bokeh_failed_load = true;\n    } else if (force !== true) {\n      var cell = $(document.getElementById(\"9717706f-fad4-40c7-bf47-7bd7237849a7\")).parents('.cell').data().cell;\n      cell.output_area.append_execute_result(NB_LOAD_WARNING)\n    }\n\n  }\n\n  if (root._bokeh_is_loading === 0) {\n    console.log(\"Bokeh: BokehJS loaded, going straight to plotting\");\n    run_inline_js();\n  } else {\n    load_libs(js_urls, function() {\n      console.log(\"Bokeh: BokehJS plotting callback run at\", now());\n      run_inline_js();\n    });\n  }\n}(window));"
     },
     "metadata": {},
     "output_type": "display_data"
    }
   ],
   "source": [
    "from bokeh.plotting import figure, show\n",
    "from bokeh.io import output_notebook\n",
    "from bokeh.palettes import Spectral10\n",
    "from bokeh.transform import factor_cmap\n",
    "from bokeh.models import Range1d, LinearAxis\n",
    "output_notebook()"
   ]
  },
  {
   "cell_type": "code",
   "execution_count": 11,
   "metadata": {},
   "outputs": [
    {
     "name": "stdout",
     "output_type": "stream",
     "text": [
      "Index: \n",
      " ['USD000UTSTOM', 'USD000000TOD', 'EUR_RUB__TOD', 'EUR_RUB__TOM', 'USD000TODTOM', 'EUR000TODTOM', 'EURUSD000TOM', 'CNY000000TOD', 'EURUSDTODTOM', 'EURUSD000TOD', 'BKTRUB000TOM', 'USDRUB_TOM1W', 'USDRUB_TOM1D', 'USDRUB_TOM1M'] \n",
      " Values: \n",
      " [15530  4081  1492  1037   585   383    68    44    30    11     2     1\n",
      "     1     1]\n"
     ]
    }
   ],
   "source": [
    "trade_ticker = trades.SECCODE.value_counts().index.tolist()\n",
    "trade_values = trades.SECCODE.value_counts().values\n",
    "print(\"Index: \\n %s \\n Values: \\n %s\" % (trade_ticker, trade_values))"
   ]
  },
  {
   "cell_type": "code",
   "execution_count": 27,
   "metadata": {},
   "outputs": [
    {
     "data": {
      "text/html": [
       "\n",
       "<div class=\"bk-root\">\n",
       "    <div class=\"bk-plotdiv\" id=\"25a88f7d-a39a-4d3a-9d14-90cf210374c5\"></div>\n",
       "</div>"
      ]
     },
     "metadata": {},
     "output_type": "display_data"
    },
    {
     "data": {
      "application/javascript": [
       "(function(root) {\n",
       "  function embed_document(root) {\n",
       "    \n",
       "  var docs_json = {\"132f7ad3-7591-4710-bd41-8525d62d2f77\":{\"roots\":{\"references\":[{\"attributes\":{\"callback\":null},\"id\":\"0e687d23-aff6-4263-9bf8-7e2a0492ecb8\",\"type\":\"DataRange1d\"},{\"attributes\":{},\"id\":\"9fd757f1-6980-4155-8cc7-b0950e14445d\",\"type\":\"PanTool\"},{\"attributes\":{\"dimension\":1,\"plot\":{\"id\":\"ed10b2ef-d255-4260-922c-8b8ed7532a60\",\"subtype\":\"Figure\",\"type\":\"Plot\"},\"ticker\":{\"id\":\"b3b5826e-fd9d-4028-ab3c-ba8c33b8e9a0\",\"type\":\"BasicTicker\"}},\"id\":\"79e6f072-d6f4-4414-9b61-eeb32a76ae46\",\"type\":\"Grid\"},{\"attributes\":{\"callback\":null,\"column_names\":[\"x\",\"top\"],\"data\":{\"top\":[2405788,1549432,1513218,536156,159622,117919,38133,3071,2006,958,754,529,477,316,316,174,26,19,17,17,2],\"x\":[\"EUR_RUB__TOM\",\"BKTRUB000TOM\",\"USD000UTSTOM\",\"EUR_RUB__TOD\",\"USD000000TOD\",\"EURUSD000TOM\",\"EURUSD000TOD\",\"USD000TODTOM\",\"EUR000TODTOM\",\"USDRUB_TOM6M\",\"USDRUB_TOM1Y\",\"CNY000000TOD\",\"USDRUB_TOM9M\",\"USDRUB_TOM1M\",\"USDRUB_TOM3M\",\"EURUSDTODTOM\",\"USDRUB_TOM1W\",\"USDRUB_TOM1D\",\"USDRUB_TOM2M\",\"USDRUB_TOM2W\",\"BYR_RUB__TOM\"]},\"selected\":null,\"selection_policy\":null},\"id\":\"0f461640-a442-4a5f-a6d5-e5420a0b1d68\",\"type\":\"ColumnDataSource\"},{\"attributes\":{\"overlay\":{\"id\":\"74404d48-77cf-451c-a773-c8b460c38d62\",\"type\":\"BoxAnnotation\"}},\"id\":\"5e495930-e785-4219-89a0-77dbfcedd8e3\",\"type\":\"BoxZoomTool\"},{\"attributes\":{\"formatter\":{\"id\":\"5e33836f-c02d-40e6-bdc8-9d2d4267e057\",\"type\":\"BasicTickFormatter\"},\"plot\":{\"id\":\"ed10b2ef-d255-4260-922c-8b8ed7532a60\",\"subtype\":\"Figure\",\"type\":\"Plot\"},\"ticker\":{\"id\":\"446fbc7d-01a8-4571-bbfc-edecd0b0c4af\",\"type\":\"BasicTicker\"}},\"id\":\"31dc9867-4772-4e48-a408-58ee07e69adb\",\"type\":\"LinearAxis\"},{\"attributes\":{\"bottom_units\":\"screen\",\"fill_alpha\":{\"value\":0.5},\"fill_color\":{\"value\":\"lightgrey\"},\"left_units\":\"screen\",\"level\":\"overlay\",\"line_alpha\":{\"value\":1.0},\"line_color\":{\"value\":\"black\"},\"line_dash\":[4,4],\"line_width\":{\"value\":2},\"plot\":null,\"render_mode\":\"css\",\"right_units\":\"screen\",\"top_units\":\"screen\"},\"id\":\"74404d48-77cf-451c-a773-c8b460c38d62\",\"type\":\"BoxAnnotation\"},{\"attributes\":{},\"id\":\"50a69f0d-4db3-42e0-b794-8138ff0aca9e\",\"type\":\"LinearScale\"},{\"attributes\":{},\"id\":\"a4815dd5-6ac7-47c5-93db-650237aefe52\",\"type\":\"ResetTool\"},{\"attributes\":{\"plot\":null,\"text\":\"\"},\"id\":\"e72f3ea4-7c3f-425e-a066-bb762f428884\",\"type\":\"Title\"},{\"attributes\":{},\"id\":\"446fbc7d-01a8-4571-bbfc-edecd0b0c4af\",\"type\":\"BasicTicker\"},{\"attributes\":{\"plot\":{\"id\":\"ed10b2ef-d255-4260-922c-8b8ed7532a60\",\"subtype\":\"Figure\",\"type\":\"Plot\"},\"ticker\":{\"id\":\"446fbc7d-01a8-4571-bbfc-edecd0b0c4af\",\"type\":\"BasicTicker\"}},\"id\":\"cb34d88b-b4e8-4cfe-bc45-3ee91b9ef025\",\"type\":\"Grid\"},{\"attributes\":{},\"id\":\"5e33836f-c02d-40e6-bdc8-9d2d4267e057\",\"type\":\"BasicTickFormatter\"},{\"attributes\":{},\"id\":\"7a01032c-b4af-4a76-9fc5-db67d3fa79f7\",\"type\":\"SaveTool\"},{\"attributes\":{\"fill_color\":{\"value\":\"#CAB2D6\"},\"line_color\":{\"value\":\"#CAB2D6\"},\"top\":{\"field\":\"top\"},\"width\":{\"value\":0.5},\"x\":{\"field\":\"x\"}},\"id\":\"ed49f2dc-507e-4833-bdb1-6ec0082711a9\",\"type\":\"VBar\"},{\"attributes\":{},\"id\":\"b3b5826e-fd9d-4028-ab3c-ba8c33b8e9a0\",\"type\":\"BasicTicker\"},{\"attributes\":{\"fill_alpha\":{\"value\":0.1},\"fill_color\":{\"value\":\"#1f77b4\"},\"line_alpha\":{\"value\":0.1},\"line_color\":{\"value\":\"#1f77b4\"},\"top\":{\"field\":\"top\"},\"width\":{\"value\":0.5},\"x\":{\"field\":\"x\"}},\"id\":\"faf8cd26-8df8-4739-bb32-92f0680d13dd\",\"type\":\"VBar\"},{\"attributes\":{\"below\":[{\"id\":\"31dc9867-4772-4e48-a408-58ee07e69adb\",\"type\":\"LinearAxis\"}],\"left\":[{\"id\":\"51dc5cd7-b686-495c-b2d6-c73483bb0e37\",\"type\":\"LinearAxis\"}],\"plot_height\":500,\"plot_width\":500,\"renderers\":[{\"id\":\"31dc9867-4772-4e48-a408-58ee07e69adb\",\"type\":\"LinearAxis\"},{\"id\":\"cb34d88b-b4e8-4cfe-bc45-3ee91b9ef025\",\"type\":\"Grid\"},{\"id\":\"51dc5cd7-b686-495c-b2d6-c73483bb0e37\",\"type\":\"LinearAxis\"},{\"id\":\"79e6f072-d6f4-4414-9b61-eeb32a76ae46\",\"type\":\"Grid\"},{\"id\":\"74404d48-77cf-451c-a773-c8b460c38d62\",\"type\":\"BoxAnnotation\"},{\"id\":\"8871e955-08f5-4f1f-ba5a-6ab0862bb785\",\"type\":\"GlyphRenderer\"}],\"title\":{\"id\":\"e72f3ea4-7c3f-425e-a066-bb762f428884\",\"type\":\"Title\"},\"toolbar\":{\"id\":\"3f143037-6481-48dc-afa8-89e530da638d\",\"type\":\"Toolbar\"},\"x_range\":{\"id\":\"0e687d23-aff6-4263-9bf8-7e2a0492ecb8\",\"type\":\"DataRange1d\"},\"x_scale\":{\"id\":\"50a69f0d-4db3-42e0-b794-8138ff0aca9e\",\"type\":\"LinearScale\"},\"y_range\":{\"id\":\"863ec644-d7ae-433e-8ba5-e6a3e84c09df\",\"type\":\"DataRange1d\"},\"y_scale\":{\"id\":\"670bf4f4-045c-43b6-a89e-16739390e3e9\",\"type\":\"LinearScale\"}},\"id\":\"ed10b2ef-d255-4260-922c-8b8ed7532a60\",\"subtype\":\"Figure\",\"type\":\"Plot\"},{\"attributes\":{},\"id\":\"291e1c53-9ccf-4a56-8d47-3421e3ee686a\",\"type\":\"WheelZoomTool\"},{\"attributes\":{},\"id\":\"670bf4f4-045c-43b6-a89e-16739390e3e9\",\"type\":\"LinearScale\"},{\"attributes\":{},\"id\":\"56501d7a-7170-419e-ae4b-b6c9a2586125\",\"type\":\"HelpTool\"},{\"attributes\":{\"data_source\":{\"id\":\"0f461640-a442-4a5f-a6d5-e5420a0b1d68\",\"type\":\"ColumnDataSource\"},\"glyph\":{\"id\":\"ed49f2dc-507e-4833-bdb1-6ec0082711a9\",\"type\":\"VBar\"},\"hover_glyph\":null,\"muted_glyph\":null,\"nonselection_glyph\":{\"id\":\"faf8cd26-8df8-4739-bb32-92f0680d13dd\",\"type\":\"VBar\"},\"selection_glyph\":null,\"view\":{\"id\":\"e956c396-a75d-451b-ab7c-27f7f8d57580\",\"type\":\"CDSView\"}},\"id\":\"8871e955-08f5-4f1f-ba5a-6ab0862bb785\",\"type\":\"GlyphRenderer\"},{\"attributes\":{\"active_drag\":\"auto\",\"active_inspect\":\"auto\",\"active_scroll\":\"auto\",\"active_tap\":\"auto\",\"tools\":[{\"id\":\"9fd757f1-6980-4155-8cc7-b0950e14445d\",\"type\":\"PanTool\"},{\"id\":\"291e1c53-9ccf-4a56-8d47-3421e3ee686a\",\"type\":\"WheelZoomTool\"},{\"id\":\"5e495930-e785-4219-89a0-77dbfcedd8e3\",\"type\":\"BoxZoomTool\"},{\"id\":\"7a01032c-b4af-4a76-9fc5-db67d3fa79f7\",\"type\":\"SaveTool\"},{\"id\":\"a4815dd5-6ac7-47c5-93db-650237aefe52\",\"type\":\"ResetTool\"},{\"id\":\"56501d7a-7170-419e-ae4b-b6c9a2586125\",\"type\":\"HelpTool\"}]},\"id\":\"3f143037-6481-48dc-afa8-89e530da638d\",\"type\":\"Toolbar\"},{\"attributes\":{\"source\":{\"id\":\"0f461640-a442-4a5f-a6d5-e5420a0b1d68\",\"type\":\"ColumnDataSource\"}},\"id\":\"e956c396-a75d-451b-ab7c-27f7f8d57580\",\"type\":\"CDSView\"},{\"attributes\":{},\"id\":\"4ebf146f-b913-4ac0-bb50-ca91b397703f\",\"type\":\"BasicTickFormatter\"},{\"attributes\":{\"callback\":null},\"id\":\"863ec644-d7ae-433e-8ba5-e6a3e84c09df\",\"type\":\"DataRange1d\"},{\"attributes\":{\"formatter\":{\"id\":\"4ebf146f-b913-4ac0-bb50-ca91b397703f\",\"type\":\"BasicTickFormatter\"},\"plot\":{\"id\":\"ed10b2ef-d255-4260-922c-8b8ed7532a60\",\"subtype\":\"Figure\",\"type\":\"Plot\"},\"ticker\":{\"id\":\"b3b5826e-fd9d-4028-ab3c-ba8c33b8e9a0\",\"type\":\"BasicTicker\"}},\"id\":\"51dc5cd7-b686-495c-b2d6-c73483bb0e37\",\"type\":\"LinearAxis\"}],\"root_ids\":[\"ed10b2ef-d255-4260-922c-8b8ed7532a60\"]},\"title\":\"Bokeh Application\",\"version\":\"0.12.15\"}};\n",
       "  var render_items = [{\"docid\":\"132f7ad3-7591-4710-bd41-8525d62d2f77\",\"elementid\":\"25a88f7d-a39a-4d3a-9d14-90cf210374c5\",\"modelid\":\"ed10b2ef-d255-4260-922c-8b8ed7532a60\"}];\n",
       "  root.Bokeh.embed.embed_items_notebook(docs_json, render_items);\n",
       "\n",
       "  }\n",
       "  if (root.Bokeh !== undefined) {\n",
       "    embed_document(root);\n",
       "  } else {\n",
       "    var attempts = 0;\n",
       "    var timer = setInterval(function(root) {\n",
       "      if (root.Bokeh !== undefined) {\n",
       "        embed_document(root);\n",
       "        clearInterval(timer);\n",
       "      }\n",
       "      attempts++;\n",
       "      if (attempts > 100) {\n",
       "        console.log(\"Bokeh: ERROR: Unable to run BokehJS code because BokehJS library is missing\")\n",
       "        clearInterval(timer);\n",
       "      }\n",
       "    }, 10, root)\n",
       "  }\n",
       "})(window);"
      ],
      "application/vnd.bokehjs_exec.v0+json": ""
     },
     "metadata": {
      "application/vnd.bokehjs_exec.v0+json": {
       "id": "ed10b2ef-d255-4260-922c-8b8ed7532a60"
      }
     },
     "output_type": "display_data"
    }
   ],
   "source": [
    "gr = figure(plot_width=500, plot_height=500)\n",
    "gr.vbar(x=ticker_counts.index, top=ticker_counts.values, width=0.5, color=\"#CAB2D6\")\n",
    "show(gr)"
   ]
  },
  {
   "cell_type": "markdown",
   "metadata": {},
   "source": [
    "#### Let's build a graph that will show volume (green) and price (red) traded during the day for a particular instrument"
   ]
  },
  {
   "cell_type": "code",
   "execution_count": 12,
   "metadata": {},
   "outputs": [
    {
     "data": {
      "text/html": [
       "\n",
       "<div class=\"bk-root\">\n",
       "    <div class=\"bk-plotdiv\" id=\"6bbf6e3b-cd61-4f4a-8d95-ea699c8830bb\"></div>\n",
       "</div>"
      ]
     },
     "metadata": {},
     "output_type": "display_data"
    },
    {
     "data": {
      "application/javascript": [
       "(function(root) {\n",
       "  function embed_document(root) {\n",
       "    \n",
       "  var docs_json = {\"c983e698-43bb-4305-9e21-241eef7278c1\":{\"roots\":{\"references\":[{\"attributes\":{\"data_source\":{\"id\":\"7dbec102-8838-4174-9f63-2bd4f758b585\",\"type\":\"ColumnDataSource\"},\"glyph\":{\"id\":\"4086d165-f0dd-42d8-85c3-96a200e0a3c0\",\"type\":\"VBar\"},\"hover_glyph\":null,\"muted_glyph\":null,\"nonselection_glyph\":{\"id\":\"6af79869-1e69-4966-95b5-77cdacd5fb95\",\"type\":\"VBar\"},\"selection_glyph\":null,\"view\":{\"id\":\"fe84a67b-b9ba-4e6a-b3be-7cd298e39bb7\",\"type\":\"CDSView\"}},\"id\":\"95c57e9a-1eb6-4a98-8b69-1d0bc276df1c\",\"type\":\"GlyphRenderer\"},{\"attributes\":{},\"id\":\"f98a7bc3-9620-48cb-a51a-f39da77bb050\",\"type\":\"HelpTool\"},{\"attributes\":{},\"id\":\"d2c33f2e-6476-4564-8d13-a979a4b6ae64\",\"type\":\"LinearScale\"},{\"attributes\":{\"below\":[{\"id\":\"6fb4a0c9-7f28-46b3-a155-5edd7f29cb04\",\"type\":\"CategoricalAxis\"}],\"left\":[{\"id\":\"69dfc800-c6b0-429e-bf5d-614de32db978\",\"type\":\"LinearAxis\"}],\"plot_width\":1200,\"renderers\":[{\"id\":\"6fb4a0c9-7f28-46b3-a155-5edd7f29cb04\",\"type\":\"CategoricalAxis\"},{\"id\":\"25921d4e-4250-43d0-af35-82bd6b3e9ffc\",\"type\":\"Grid\"},{\"id\":\"69dfc800-c6b0-429e-bf5d-614de32db978\",\"type\":\"LinearAxis\"},{\"id\":\"e7437a29-91dc-4d21-8df7-4328e2cdcc6c\",\"type\":\"Grid\"},{\"id\":\"dbda17d7-3469-4735-8f19-100cc482ac30\",\"type\":\"BoxAnnotation\"},{\"id\":\"95c57e9a-1eb6-4a98-8b69-1d0bc276df1c\",\"type\":\"GlyphRenderer\"}],\"title\":{\"id\":\"386a0938-0749-45cb-abb5-7698576a9c8a\",\"type\":\"Title\"},\"toolbar\":{\"id\":\"4d25b6fe-5d6a-4bed-b722-044f5f0fbd2b\",\"type\":\"Toolbar\"},\"x_range\":{\"id\":\"1d78ee0f-2781-425c-9101-e1dbbd00f6f2\",\"type\":\"FactorRange\"},\"x_scale\":{\"id\":\"ee3ad27a-ae7a-4f3d-845c-4ad741aff847\",\"type\":\"CategoricalScale\"},\"y_range\":{\"id\":\"2f62c906-7964-4ddf-b200-b8d9af0781e8\",\"type\":\"DataRange1d\"},\"y_scale\":{\"id\":\"d2c33f2e-6476-4564-8d13-a979a4b6ae64\",\"type\":\"LinearScale\"}},\"id\":\"d4be999f-de5b-4bf2-be6d-4aeddb491883\",\"subtype\":\"Figure\",\"type\":\"Plot\"},{\"attributes\":{\"bottom_units\":\"screen\",\"fill_alpha\":{\"value\":0.5},\"fill_color\":{\"value\":\"lightgrey\"},\"left_units\":\"screen\",\"level\":\"overlay\",\"line_alpha\":{\"value\":1.0},\"line_color\":{\"value\":\"black\"},\"line_dash\":[4,4],\"line_width\":{\"value\":2},\"plot\":null,\"render_mode\":\"css\",\"right_units\":\"screen\",\"top_units\":\"screen\"},\"id\":\"dbda17d7-3469-4735-8f19-100cc482ac30\",\"type\":\"BoxAnnotation\"},{\"attributes\":{\"formatter\":{\"id\":\"492d8dcb-64f3-4135-bfea-75cede41c515\",\"type\":\"BasicTickFormatter\"},\"plot\":{\"id\":\"d4be999f-de5b-4bf2-be6d-4aeddb491883\",\"subtype\":\"Figure\",\"type\":\"Plot\"},\"ticker\":{\"id\":\"c6af817e-1062-4f9a-a0d8-1328cc449cb2\",\"type\":\"BasicTicker\"}},\"id\":\"69dfc800-c6b0-429e-bf5d-614de32db978\",\"type\":\"LinearAxis\"},{\"attributes\":{\"fill_color\":{\"value\":\"maroon\"},\"line_color\":{\"value\":\"maroon\"},\"top\":{\"field\":\"top\"},\"width\":{\"value\":0.5},\"x\":{\"field\":\"x\"}},\"id\":\"4086d165-f0dd-42d8-85c3-96a200e0a3c0\",\"type\":\"VBar\"},{\"attributes\":{\"formatter\":{\"id\":\"d81bc88a-0eed-4913-a691-c5713f10d8c6\",\"type\":\"CategoricalTickFormatter\"},\"major_label_orientation\":1.57,\"plot\":{\"id\":\"d4be999f-de5b-4bf2-be6d-4aeddb491883\",\"subtype\":\"Figure\",\"type\":\"Plot\"},\"ticker\":{\"id\":\"f27a778b-6cd1-48ec-8c54-d608f5675ff5\",\"type\":\"CategoricalTicker\"}},\"id\":\"6fb4a0c9-7f28-46b3-a155-5edd7f29cb04\",\"type\":\"CategoricalAxis\"},{\"attributes\":{},\"id\":\"492d8dcb-64f3-4135-bfea-75cede41c515\",\"type\":\"BasicTickFormatter\"},{\"attributes\":{},\"id\":\"f27a778b-6cd1-48ec-8c54-d608f5675ff5\",\"type\":\"CategoricalTicker\"},{\"attributes\":{\"plot\":{\"id\":\"d4be999f-de5b-4bf2-be6d-4aeddb491883\",\"subtype\":\"Figure\",\"type\":\"Plot\"},\"ticker\":{\"id\":\"f27a778b-6cd1-48ec-8c54-d608f5675ff5\",\"type\":\"CategoricalTicker\"}},\"id\":\"25921d4e-4250-43d0-af35-82bd6b3e9ffc\",\"type\":\"Grid\"},{\"attributes\":{},\"id\":\"c6af817e-1062-4f9a-a0d8-1328cc449cb2\",\"type\":\"BasicTicker\"},{\"attributes\":{\"dimension\":1,\"plot\":{\"id\":\"d4be999f-de5b-4bf2-be6d-4aeddb491883\",\"subtype\":\"Figure\",\"type\":\"Plot\"},\"ticker\":{\"id\":\"c6af817e-1062-4f9a-a0d8-1328cc449cb2\",\"type\":\"BasicTicker\"}},\"id\":\"e7437a29-91dc-4d21-8df7-4328e2cdcc6c\",\"type\":\"Grid\"},{\"attributes\":{\"source\":{\"id\":\"7dbec102-8838-4174-9f63-2bd4f758b585\",\"type\":\"ColumnDataSource\"}},\"id\":\"fe84a67b-b9ba-4e6a-b3be-7cd298e39bb7\",\"type\":\"CDSView\"},{\"attributes\":{},\"id\":\"d81bc88a-0eed-4913-a691-c5713f10d8c6\",\"type\":\"CategoricalTickFormatter\"},{\"attributes\":{\"fill_alpha\":{\"value\":0.1},\"fill_color\":{\"value\":\"#1f77b4\"},\"line_alpha\":{\"value\":0.1},\"line_color\":{\"value\":\"#1f77b4\"},\"top\":{\"field\":\"top\"},\"width\":{\"value\":0.5},\"x\":{\"field\":\"x\"}},\"id\":\"6af79869-1e69-4966-95b5-77cdacd5fb95\",\"type\":\"VBar\"},{\"attributes\":{\"callback\":null,\"column_names\":[\"x\",\"top\"],\"data\":{\"top\":[15530,4081,1492,1037,585,383,68,44,30,11,2,1,1,1],\"x\":[\"USD000UTSTOM\",\"USD000000TOD\",\"EUR_RUB__TOD\",\"EUR_RUB__TOM\",\"USD000TODTOM\",\"EUR000TODTOM\",\"EURUSD000TOM\",\"CNY000000TOD\",\"EURUSDTODTOM\",\"EURUSD000TOD\",\"BKTRUB000TOM\",\"USDRUB_TOM1W\",\"USDRUB_TOM1D\",\"USDRUB_TOM1M\"]},\"selected\":null,\"selection_policy\":null},\"id\":\"7dbec102-8838-4174-9f63-2bd4f758b585\",\"type\":\"ColumnDataSource\"},{\"attributes\":{\"plot\":null,\"text\":\"Number of trades per instrument\"},\"id\":\"386a0938-0749-45cb-abb5-7698576a9c8a\",\"type\":\"Title\"},{\"attributes\":{},\"id\":\"6eb28b1b-5df2-41f3-a6bc-db259b2fe907\",\"type\":\"PanTool\"},{\"attributes\":{\"callback\":null,\"factors\":[\"USD000UTSTOM\",\"USD000000TOD\",\"EUR_RUB__TOD\",\"EUR_RUB__TOM\",\"USD000TODTOM\",\"EUR000TODTOM\",\"EURUSD000TOM\",\"CNY000000TOD\",\"EURUSDTODTOM\",\"EURUSD000TOD\",\"BKTRUB000TOM\",\"USDRUB_TOM1W\",\"USDRUB_TOM1D\",\"USDRUB_TOM1M\"]},\"id\":\"1d78ee0f-2781-425c-9101-e1dbbd00f6f2\",\"type\":\"FactorRange\"},{\"attributes\":{},\"id\":\"70207d59-7760-479c-934c-0afd65574ddd\",\"type\":\"ResetTool\"},{\"attributes\":{\"active_drag\":\"auto\",\"active_inspect\":\"auto\",\"active_scroll\":\"auto\",\"active_tap\":\"auto\",\"tools\":[{\"id\":\"6eb28b1b-5df2-41f3-a6bc-db259b2fe907\",\"type\":\"PanTool\"},{\"id\":\"d1278f11-eccc-4e31-8db5-a584dd6a7af6\",\"type\":\"WheelZoomTool\"},{\"id\":\"88a352f2-04e7-473d-8c08-328fd1646c7a\",\"type\":\"BoxZoomTool\"},{\"id\":\"dadb5e51-3fb3-4a57-b667-9cb3ad458ac6\",\"type\":\"SaveTool\"},{\"id\":\"70207d59-7760-479c-934c-0afd65574ddd\",\"type\":\"ResetTool\"},{\"id\":\"f98a7bc3-9620-48cb-a51a-f39da77bb050\",\"type\":\"HelpTool\"}]},\"id\":\"4d25b6fe-5d6a-4bed-b722-044f5f0fbd2b\",\"type\":\"Toolbar\"},{\"attributes\":{},\"id\":\"d1278f11-eccc-4e31-8db5-a584dd6a7af6\",\"type\":\"WheelZoomTool\"},{\"attributes\":{\"overlay\":{\"id\":\"dbda17d7-3469-4735-8f19-100cc482ac30\",\"type\":\"BoxAnnotation\"}},\"id\":\"88a352f2-04e7-473d-8c08-328fd1646c7a\",\"type\":\"BoxZoomTool\"},{\"attributes\":{},\"id\":\"ee3ad27a-ae7a-4f3d-845c-4ad741aff847\",\"type\":\"CategoricalScale\"},{\"attributes\":{},\"id\":\"dadb5e51-3fb3-4a57-b667-9cb3ad458ac6\",\"type\":\"SaveTool\"},{\"attributes\":{\"callback\":null},\"id\":\"2f62c906-7964-4ddf-b200-b8d9af0781e8\",\"type\":\"DataRange1d\"}],\"root_ids\":[\"d4be999f-de5b-4bf2-be6d-4aeddb491883\"]},\"title\":\"Bokeh Application\",\"version\":\"0.12.15\"}};\n",
       "  var render_items = [{\"docid\":\"c983e698-43bb-4305-9e21-241eef7278c1\",\"elementid\":\"6bbf6e3b-cd61-4f4a-8d95-ea699c8830bb\",\"modelid\":\"d4be999f-de5b-4bf2-be6d-4aeddb491883\"}];\n",
       "  root.Bokeh.embed.embed_items_notebook(docs_json, render_items);\n",
       "\n",
       "  }\n",
       "  if (root.Bokeh !== undefined) {\n",
       "    embed_document(root);\n",
       "  } else {\n",
       "    var attempts = 0;\n",
       "    var timer = setInterval(function(root) {\n",
       "      if (root.Bokeh !== undefined) {\n",
       "        embed_document(root);\n",
       "        clearInterval(timer);\n",
       "      }\n",
       "      attempts++;\n",
       "      if (attempts > 100) {\n",
       "        console.log(\"Bokeh: ERROR: Unable to run BokehJS code because BokehJS library is missing\")\n",
       "        clearInterval(timer);\n",
       "      }\n",
       "    }, 10, root)\n",
       "  }\n",
       "})(window);"
      ],
      "application/vnd.bokehjs_exec.v0+json": ""
     },
     "metadata": {
      "application/vnd.bokehjs_exec.v0+json": {
       "id": "d4be999f-de5b-4bf2-be6d-4aeddb491883"
      }
     },
     "output_type": "display_data"
    }
   ],
   "source": [
    "plot = figure(title='Number of trades per instrument', x_range=trade_ticker, width=1200)\n",
    "plot.vbar(trade_ticker,top=trade_values,width=0.5, color='maroon')\n",
    "plot.xaxis.major_label_orientation = 3.14/2\n",
    "show(plot)"
   ]
  },
  {
   "cell_type": "markdown",
   "metadata": {},
   "source": [
    "#### Let's see if this is convertable to a function that could be used without too much programming knowledge"
   ]
  },
  {
   "cell_type": "code",
   "execution_count": null,
   "metadata": {},
   "outputs": [],
   "source": [
    "#### Let's see if this is convertable to a function that could be used without too much programming knowledge"
   ]
  },
  {
   "cell_type": "markdown",
   "metadata": {},
   "source": [
    "#### Now that we have a function, getting this to become interactive is a simple one-liner"
   ]
  },
  {
   "cell_type": "code",
   "execution_count": 26,
   "metadata": {},
   "outputs": [],
   "source": [
    "import datetime\n",
    "import ipywidgets as widgets\n",
    "from ipywidgets import interact, interactive, fixed, interact_manual, Layout\n",
    "def graph_volume_price(instrument):\n",
    "    _tr = trades[trades.SECCODE==instrument].sort_values(by='TIME')\n",
    "    _liner = figure(width=1200, title='Volume (left scale) and Price (right scale) for %s during the day' % instrument)\n",
    "    _liner.extra_y_ranges = {\"price\": Range1d(start=_tr.PRICE.min(), end=_tr.PRICE.max())}\n",
    "    _liner.add_layout(LinearAxis(y_range_name=\"price\"), 'right')\n",
    "    _liner.line(x=_tr.TIME, y=_tr.VOLUME, color='green')\n",
    "    _liner.line(x=_tr.TIME, y=_tr.PRICE, color='red', y_range_name='price')\n",
    "    show(_liner)"
   ]
  },
  {
   "cell_type": "code",
   "execution_count": 27,
   "metadata": {},
   "outputs": [
    {
     "data": {
      "application/vnd.jupyter.widget-view+json": {
       "model_id": "9cb6a1b5791f4a59b28b01d601fbe928",
       "version_major": 2,
       "version_minor": 0
      },
      "text/plain": [
       "interactive(children=(Dropdown(description='instrument', options=('USD000UTSTOM', 'USD000000TOD', 'EUR_RUB__TO…"
      ]
     },
     "metadata": {},
     "output_type": "display_data"
    },
    {
     "data": {
      "text/plain": [
       "<function __main__.graph_volume_price(instrument)>"
      ]
     },
     "execution_count": 27,
     "metadata": {},
     "output_type": "execute_result"
    }
   ],
   "source": [
    "interact(graph_volume_price, instrument=trades.SECCODE.unique().tolist())"
   ]
  },
  {
   "cell_type": "code",
   "execution_count": null,
   "metadata": {},
   "outputs": [],
   "source": []
  }
 ],
 "metadata": {
  "kernelspec": {
   "display_name": "Python 3",
   "language": "python",
   "name": "python3"
  },
  "language_info": {
   "codemirror_mode": {
    "name": "ipython",
    "version": 3
   },
   "file_extension": ".py",
   "mimetype": "text/x-python",
   "name": "python",
   "nbconvert_exporter": "python",
   "pygments_lexer": "ipython3",
   "version": "3.6.5"
  }
 },
 "nbformat": 4,
 "nbformat_minor": 2
}
