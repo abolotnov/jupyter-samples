{
 "cells": [
  {
   "cell_type": "code",
   "execution_count": 5,
   "metadata": {},
   "outputs": [
    {
     "name": "stdout",
     "output_type": "stream",
     "text": [
      "CPU times: user 4.12 s, sys: 1.1 s, total: 5.22 s\n",
      "Wall time: 5.6 s\n"
     ]
    }
   ],
   "source": [
    "import pandas as pd\n",
    "import numpy as np\n",
    "\n",
    "_feed = '/opt/app/data/data/TopofBook20130206/TopofBook20130206.txt'\n",
    "%time data = pd.read_csv(_feed, low_memory=False)"
   ]
  },
  {
   "cell_type": "code",
   "execution_count": 4,
   "metadata": {},
   "outputs": [
    {
     "data": {
      "text/plain": [
       "(6328950, 6)"
      ]
     },
     "execution_count": 4,
     "metadata": {},
     "output_type": "execute_result"
    }
   ],
   "source": [
    "data.shape"
   ]
  },
  {
   "cell_type": "code",
   "execution_count": 8,
   "metadata": {},
   "outputs": [
    {
     "data": {
      "text/plain": [
       "SECCODE     object\n",
       "BUYSELL     object\n",
       "TIME         int64\n",
       "TRADENO    float64\n",
       "PRICE       object\n",
       "VOLUME      object\n",
       "dtype: object"
      ]
     },
     "execution_count": 8,
     "metadata": {},
     "output_type": "execute_result"
    }
   ],
   "source": [
    "data.dtypes"
   ]
  },
  {
   "cell_type": "code",
   "execution_count": 9,
   "metadata": {},
   "outputs": [
    {
     "data": {
      "text/plain": [
       "array(['USD000UTSTOM', 'BKTRUB000TOM', 'USD000000TOD', 'EUR_RUB__TOD',\n",
       "       'EUR_RUB__TOM', 'EUR000TODTOM', 'USD000TODTOM', 'EURUSDTODTOM',\n",
       "       'EURUSD000TOM', 'EURUSD000TOD', 'CNY000000TOD', 'USDRUB_TOM1M',\n",
       "       'USDRUB_TOM1W', 'USDRUB_TOM1Y', 'USDRUB_TOM1D', 'USDRUB_TOM2M',\n",
       "       'USDRUB_TOM2W', 'USDRUB_TOM3M', 'USDRUB_TOM6M', 'USDRUB_TOM9M',\n",
       "       'BYR_RUB__TOM'], dtype=object)"
      ]
     },
     "execution_count": 9,
     "metadata": {},
     "output_type": "execute_result"
    }
   ],
   "source": [
    "data.SECCODE.unique()"
   ]
  },
  {
   "cell_type": "code",
   "execution_count": 20,
   "metadata": {},
   "outputs": [
    {
     "name": "stdout",
     "output_type": "stream",
     "text": [
      "CPU times: user 1.01 s, sys: 10 ms, total: 1.02 s\n",
      "Wall time: 1.01 s\n"
     ]
    },
    {
     "data": {
      "text/plain": [
       "EUR_RUB__TOM    2405788\n",
       "BKTRUB000TOM    1549432\n",
       "USD000UTSTOM    1513218\n",
       "EUR_RUB__TOD     536156\n",
       "USD000000TOD     159622\n",
       "EURUSD000TOM     117919\n",
       "EURUSD000TOD      38133\n",
       "USD000TODTOM       3071\n",
       "EUR000TODTOM       2006\n",
       "USDRUB_TOM6M        958\n",
       "USDRUB_TOM1Y        754\n",
       "CNY000000TOD        529\n",
       "USDRUB_TOM9M        477\n",
       "USDRUB_TOM3M        316\n",
       "USDRUB_TOM1M        316\n",
       "EURUSDTODTOM        174\n",
       "USDRUB_TOM1W         26\n",
       "USDRUB_TOM1D         19\n",
       "USDRUB_TOM2W         17\n",
       "USDRUB_TOM2M         17\n",
       "BYR_RUB__TOM          2\n",
       "Name: SECCODE, dtype: int64"
      ]
     },
     "execution_count": 20,
     "metadata": {},
     "output_type": "execute_result"
    }
   ],
   "source": [
    "%time data.SECCODE.value_counts()"
   ]
  },
  {
   "cell_type": "code",
   "execution_count": 25,
   "metadata": {},
   "outputs": [
    {
     "name": "stdout",
     "output_type": "stream",
     "text": [
      "CPU times: user 590 ms, sys: 20 ms, total: 610 ms\n",
      "Wall time: 596 ms\n"
     ]
    },
    {
     "data": {
      "text/html": [
       "<div>\n",
       "<style scoped>\n",
       "    .dataframe tbody tr th:only-of-type {\n",
       "        vertical-align: middle;\n",
       "    }\n",
       "\n",
       "    .dataframe tbody tr th {\n",
       "        vertical-align: top;\n",
       "    }\n",
       "\n",
       "    .dataframe thead th {\n",
       "        text-align: right;\n",
       "    }\n",
       "</style>\n",
       "<table border=\"1\" class=\"dataframe\">\n",
       "  <thead>\n",
       "    <tr style=\"text-align: right;\">\n",
       "      <th></th>\n",
       "      <th>count</th>\n",
       "      <th>mean</th>\n",
       "      <th>std</th>\n",
       "      <th>min</th>\n",
       "      <th>25%</th>\n",
       "      <th>50%</th>\n",
       "      <th>75%</th>\n",
       "      <th>max</th>\n",
       "    </tr>\n",
       "  </thead>\n",
       "  <tbody>\n",
       "    <tr>\n",
       "      <th>TIME</th>\n",
       "      <td>38133.0</td>\n",
       "      <td>1.242897e+08</td>\n",
       "      <td>1.229879e+07</td>\n",
       "      <td>100003656.0</td>\n",
       "      <td>1.139024e+08</td>\n",
       "      <td>122913292.0</td>\n",
       "      <td>133440227.0</td>\n",
       "      <td>145959884.0</td>\n",
       "    </tr>\n",
       "    <tr>\n",
       "      <th>TRADENO</th>\n",
       "      <td>22.0</td>\n",
       "      <td>7.614983e+07</td>\n",
       "      <td>6.636021e+03</td>\n",
       "      <td>76140508.0</td>\n",
       "      <td>7.614250e+07</td>\n",
       "      <td>76150438.0</td>\n",
       "      <td>76156058.0</td>\n",
       "      <td>76157753.0</td>\n",
       "    </tr>\n",
       "  </tbody>\n",
       "</table>\n",
       "</div>"
      ],
      "text/plain": [
       "           count          mean           std          min           25%  \\\n",
       "TIME     38133.0  1.242897e+08  1.229879e+07  100003656.0  1.139024e+08   \n",
       "TRADENO     22.0  7.614983e+07  6.636021e+03   76140508.0  7.614250e+07   \n",
       "\n",
       "                 50%          75%          max  \n",
       "TIME     122913292.0  133440227.0  145959884.0  \n",
       "TRADENO   76150438.0   76156058.0   76157753.0  "
      ]
     },
     "execution_count": 25,
     "metadata": {},
     "output_type": "execute_result"
    }
   ],
   "source": [
    "%time data[data.SECCODE=='EURUSD000TOD'].describe().T"
   ]
  },
  {
   "cell_type": "code",
   "execution_count": null,
   "metadata": {},
   "outputs": [],
   "source": []
  }
 ],
 "metadata": {
  "kernelspec": {
   "display_name": "Python 3",
   "language": "python",
   "name": "python3"
  },
  "language_info": {
   "codemirror_mode": {
    "name": "ipython",
    "version": 3
   },
   "file_extension": ".py",
   "mimetype": "text/x-python",
   "name": "python",
   "nbconvert_exporter": "python",
   "pygments_lexer": "ipython3",
   "version": "3.6.5"
  }
 },
 "nbformat": 4,
 "nbformat_minor": 2
}
